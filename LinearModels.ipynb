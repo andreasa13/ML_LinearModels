{
 "cells": [
  {
   "cell_type": "markdown",
   "metadata": {},
   "source": [
    "## About iPython Notebooks ##\n",
    "\n",
    "iPython Notebooks are interactive coding environments embedded in a webpage. You will be using iPython notebooks in this class. Make sure you fill in any place that says `# BEGIN CODE HERE #END CODE HERE`. After writing your code, you can run the cell by either pressing \"SHIFT\"+\"ENTER\" or by clicking on \"Run\" (denoted by a play symbol). Before you turn this problem in, make sure everything runs as expected. First, **restart the kernel** (in the menubar, select Kernel$\\rightarrow$Restart) and then **run all cells** (in the menubar, select Cell$\\rightarrow$Run All). \n",
    "\n",
    " **What you need to remember:**\n",
    "\n",
    "- Run your cells using SHIFT+ENTER (or \"Run cell\")\n",
    "- Write code in the designated areas using Python 3 only\n",
    "- Do not modify the code outside of the designated areas\n",
    "- In some cases you will also need to explain the results. There will also be designated areas for that. \n",
    "\n",
    "Fill in your **NAME** and **AEM** below:"
   ]
  },
  {
   "cell_type": "code",
   "execution_count": 1,
   "metadata": {},
   "outputs": [],
   "source": [
    "NAME = \"Andreas Andreadis\"\n",
    "AEM = \"2729\""
   ]
  },
  {
   "cell_type": "markdown",
   "metadata": {},
   "source": [
    "---"
   ]
  },
  {
   "cell_type": "markdown",
   "metadata": {
    "colab_type": "text",
    "deletable": false,
    "editable": false,
    "id": "0LK7HlL9r2k1",
    "nbgrader": {
     "cell_type": "markdown",
     "checksum": "ccc99a100da955945679879e451af2f7",
     "grade": false,
     "grade_id": "cell-62cb5c0bfe7b0be0",
     "locked": true,
     "schema_version": 3,
     "solution": false
    }
   },
   "source": [
    "# Assignment 1 - Linear Models #"
   ]
  },
  {
   "cell_type": "markdown",
   "metadata": {
    "colab_type": "text",
    "deletable": false,
    "editable": false,
    "id": "Ww0lVWmTsBOF",
    "nbgrader": {
     "cell_type": "markdown",
     "checksum": "95ccc5bf6599c4fefd13589ec56ecf36",
     "grade": false,
     "grade_id": "cell-61376cfdc59ad4b7",
     "locked": true,
     "schema_version": 3,
     "solution": false
    }
   },
   "source": [
    "Welcome to your first assignment. This exercise gives you a brief introduction to Python and the fundamental libraries for machine learning. It also gives you a wide understanding on how linear models work.  "
   ]
  },
  {
   "cell_type": "markdown",
   "metadata": {
    "colab_type": "text",
    "deletable": false,
    "editable": false,
    "id": "gK7GYZ6ouIGC",
    "nbgrader": {
     "cell_type": "markdown",
     "checksum": "4f7ce16a193e07c64f99419ab0490fea",
     "grade": false,
     "grade_id": "cell-e2c88db06666ef54",
     "locked": true,
     "schema_version": 3,
     "solution": false
    }
   },
   "source": [
    "After this assignment you will:\n",
    "- Be able to use iPython Notebooks\n",
    "- Be able to use numpy and pandas functions\n",
    "- Be able to build your first linear model from scratch\n",
    "- Be able to use the basic functions of scikit-learn    \n"
   ]
  },
  {
   "cell_type": "markdown",
   "metadata": {
    "colab_type": "text",
    "deletable": false,
    "editable": false,
    "id": "lQix4mv62BT4",
    "nbgrader": {
     "cell_type": "markdown",
     "checksum": "562b7c489c155b2a7b8abe0d6412d099",
     "grade": false,
     "grade_id": "cell-e62e23002ad81abc",
     "locked": true,
     "schema_version": 3,
     "solution": false
    }
   },
   "source": [
    "**Exercise**: Set test to `\"Hello World\"` in the cell below to print \"Hello World\" and run the two cells below."
   ]
  },
  {
   "cell_type": "code",
   "execution_count": 69,
   "metadata": {
    "colab": {},
    "colab_type": "code",
    "deletable": false,
    "id": "smvHiyLY15i6",
    "nbgrader": {
     "cell_type": "code",
     "checksum": "bc2ac46cb8d87335566db4fb6df6e16a",
     "grade": false,
     "grade_id": "cell-e3618902cab063ed",
     "locked": false,
     "schema_version": 3,
     "solution": true
    }
   },
   "outputs": [],
   "source": [
    "# BEGIN CODE HERE\n",
    "test = \"Hello World\"\n",
    "\n",
    "#END CODE HERE"
   ]
  },
  {
   "cell_type": "code",
   "execution_count": 70,
   "metadata": {
    "colab": {},
    "colab_type": "code",
    "deletable": false,
    "editable": false,
    "id": "Y-_OySPk1_oh",
    "nbgrader": {
     "cell_type": "code",
     "checksum": "1ab6d88aef434b5543877c0b49174a77",
     "grade": true,
     "grade_id": "cell-0761ffa58244965c",
     "locked": true,
     "points": 0,
     "schema_version": 3,
     "solution": false
    }
   },
   "outputs": [
    {
     "name": "stdout",
     "output_type": "stream",
     "text": [
      "test: Hello World\n"
     ]
    }
   ],
   "source": [
    "print (\"test: \" + test)"
   ]
  },
  {
   "cell_type": "markdown",
   "metadata": {
    "colab_type": "text",
    "deletable": false,
    "editable": false,
    "id": "Tn9L2Oq82PPC",
    "nbgrader": {
     "cell_type": "markdown",
     "checksum": "3b7ed43fbf47beb8715d1fa70bb33594",
     "grade": false,
     "grade_id": "cell-2523086cd6ee1f4b",
     "locked": true,
     "schema_version": 3,
     "solution": false
    }
   },
   "source": [
    "**Expected output**:\n",
    "test: Hello World"
   ]
  },
  {
   "cell_type": "markdown",
   "metadata": {
    "colab_type": "text",
    "deletable": false,
    "editable": false,
    "id": "lzpRolujz4zs",
    "nbgrader": {
     "cell_type": "markdown",
     "checksum": "5e46c1d92818113136db5ec1fb85219d",
     "grade": false,
     "grade_id": "cell-36315b2ebbf1eecb",
     "locked": true,
     "schema_version": 3,
     "solution": false
    }
   },
   "source": [
    "## 1. Numpy & Pandas ##\n",
    "\n",
    "The [**NumPy**](https://numpy.org/) library is the core library for scientific computing in Python. It provides a high-performance multidimensional array object, and tools for working with these arrays. \n",
    "\n",
    "The [**Pandas**](https://pandas.pydata.org/) library is built on NumPy and provides easy-to-use data structures and data analysis tools for the Python programming language.\n",
    "\n",
    "Feel free to look at the documentation ([NumPy Doc](https://numpy.org/doc/1.18/user/quickstart.html) & [Pandas Doc](https://pandas.pydata.org/docs/)) of those libraries troughout this assignment. \n",
    "\n",
    "As a convention we always import the libraries as follows: "
   ]
  },
  {
   "cell_type": "code",
   "execution_count": 71,
   "metadata": {
    "colab": {},
    "colab_type": "code",
    "id": "ydtbUhRK1Mwd"
   },
   "outputs": [],
   "source": [
    "# Run this cell\n",
    "import numpy as np\n",
    "import pandas as pd"
   ]
  },
  {
   "cell_type": "markdown",
   "metadata": {
    "colab_type": "text",
    "deletable": false,
    "editable": false,
    "id": "R047IOKS0jbm",
    "nbgrader": {
     "cell_type": "markdown",
     "checksum": "304a9d8a950eeccee8131d7bb8096ca6",
     "grade": false,
     "grade_id": "cell-72e9db57f4d96a10",
     "locked": true,
     "schema_version": 3,
     "solution": false
    }
   },
   "source": [
    "### 1.1 The very basic of NumPy ###"
   ]
  },
  {
   "cell_type": "markdown",
   "metadata": {
    "colab_type": "text",
    "deletable": false,
    "editable": false,
    "id": "dDa8wbkp3tcJ",
    "nbgrader": {
     "cell_type": "markdown",
     "checksum": "90c22b9e300426e6cb093bb63ea2efb0",
     "grade": false,
     "grade_id": "cell-3c71a9b8c65496dc",
     "locked": true,
     "schema_version": 3,
     "solution": false
    }
   },
   "source": [
    "**1.1.1 Exercise**: Create an 2-dimensional *NumPy* array (2x3) which contains the numbers 1-6.\n",
    "\n"
   ]
  },
  {
   "cell_type": "code",
   "execution_count": 72,
   "metadata": {
    "colab": {},
    "colab_type": "code",
    "deletable": false,
    "id": "sRd0XYXap0KQ",
    "nbgrader": {
     "cell_type": "code",
     "checksum": "3e508824af6ad4bc1c3b85153190a6af",
     "grade": false,
     "grade_id": "cell-fbaa0138d806f312",
     "locked": false,
     "schema_version": 3,
     "solution": true
    }
   },
   "outputs": [],
   "source": [
    "# BEGIN CODE HERE\n",
    "a = np.array([[1, 2, 3], [4, 5, 6]])\n",
    "\n",
    "#END CODE HERE"
   ]
  },
  {
   "cell_type": "code",
   "execution_count": 73,
   "metadata": {
    "colab": {},
    "colab_type": "code",
    "deletable": false,
    "editable": false,
    "id": "CVI97RDG5NrY",
    "nbgrader": {
     "cell_type": "code",
     "checksum": "a713e39ed56c0da7b2fa6ed10bcd92fb",
     "grade": true,
     "grade_id": "cell-17d73239f39ff6cc",
     "locked": true,
     "points": 1,
     "schema_version": 3,
     "solution": false
    }
   },
   "outputs": [
    {
     "name": "stdout",
     "output_type": "stream",
     "text": [
      "[[1 2 3]\n",
      " [4 5 6]]\n"
     ]
    }
   ],
   "source": [
    "print(a)"
   ]
  },
  {
   "cell_type": "markdown",
   "metadata": {
    "colab_type": "text",
    "deletable": false,
    "editable": false,
    "id": "58zW8z295bSK",
    "nbgrader": {
     "cell_type": "markdown",
     "checksum": "fdd0160389167cff660e0485be6ca18f",
     "grade": false,
     "grade_id": "cell-0194f8098f7d5d17",
     "locked": true,
     "schema_version": 3,
     "solution": false
    }
   },
   "source": [
    "**Expected output:** [[1 2 3][4 5 6]]"
   ]
  },
  {
   "cell_type": "markdown",
   "metadata": {
    "colab_type": "text",
    "deletable": false,
    "editable": false,
    "id": "eEsIzDKU63UA",
    "nbgrader": {
     "cell_type": "markdown",
     "checksum": "c44c8b7d97443d43f4903ab0909a06c9",
     "grade": false,
     "grade_id": "cell-699269795ce87979",
     "locked": true,
     "schema_version": 3,
     "solution": false
    }
   },
   "source": [
    "**1.1.2 Exercise**: Set the variable **el** with the 2nd element of the 2nd row of the array *a* and the variable **col** as the 2nd column. *Tip: Use slicing* "
   ]
  },
  {
   "cell_type": "code",
   "execution_count": 74,
   "metadata": {
    "colab": {},
    "colab_type": "code",
    "deletable": false,
    "id": "Z99j4XAs5Xwu",
    "nbgrader": {
     "cell_type": "code",
     "checksum": "32959e6aea2b9c289567d8f459b6a214",
     "grade": false,
     "grade_id": "cell-8a8a1d5b54c1a5b2",
     "locked": false,
     "schema_version": 3,
     "solution": true
    }
   },
   "outputs": [],
   "source": [
    "# BEGIN CODE HERE\n",
    "el = a[1,1]\n",
    "col = a[:,1]\n",
    "\n",
    "#END CODE HERE"
   ]
  },
  {
   "cell_type": "code",
   "execution_count": 75,
   "metadata": {
    "colab": {},
    "colab_type": "code",
    "deletable": false,
    "editable": false,
    "id": "J91SRxNt7kQR",
    "nbgrader": {
     "cell_type": "code",
     "checksum": "c64b56a85aad0db5de3b3d2e66c9ae7b",
     "grade": true,
     "grade_id": "cell-7a94780517e024bf",
     "locked": true,
     "points": 1,
     "schema_version": 3,
     "solution": false
    }
   },
   "outputs": [
    {
     "name": "stdout",
     "output_type": "stream",
     "text": [
      "el:5\n",
      "col:[2 5]\n"
     ]
    }
   ],
   "source": [
    "print(\"el:\" + str(el))\n",
    "print(\"col:\" + str(col))"
   ]
  },
  {
   "cell_type": "markdown",
   "metadata": {
    "colab_type": "text",
    "deletable": false,
    "editable": false,
    "id": "-VzK9qi38H1q",
    "nbgrader": {
     "cell_type": "markdown",
     "checksum": "cb71fbeeb49410b1b20e2e72155f8958",
     "grade": false,
     "grade_id": "cell-cdfee79e1561651a",
     "locked": true,
     "schema_version": 3,
     "solution": false
    }
   },
   "source": [
    "**Expected output:** \n",
    "<table>\n",
    "    <tr> \n",
    "        <td> el: </td> \n",
    "        <td> 5 </td>\n",
    "    </tr>\n",
    "    <tr>\n",
    "    <td> col: </td> \n",
    "    <td> [2,5] </td>\n",
    "    </tr>\n",
    "</table> "
   ]
  },
  {
   "cell_type": "markdown",
   "metadata": {
    "colab_type": "text",
    "deletable": false,
    "editable": false,
    "id": "iik38C3V9IFK",
    "nbgrader": {
     "cell_type": "markdown",
     "checksum": "43f59c26f06c7a74420e74bdb6c6a0a5",
     "grade": false,
     "grade_id": "cell-1a3520a0d3f88ee6",
     "locked": true,
     "schema_version": 3,
     "solution": false
    }
   },
   "source": [
    "**1.1.3 Exercise**: Create a 3x4 array full of zeros, create an 4x5 array full of ones and 2x3 array full of random values (0 to 10) using the fucntions np.zeros, np.ones, and np.random.random accordingly. "
   ]
  },
  {
   "cell_type": "code",
   "execution_count": 76,
   "metadata": {
    "colab": {},
    "colab_type": "code",
    "deletable": false,
    "id": "dcXkLapD7nce",
    "nbgrader": {
     "cell_type": "code",
     "checksum": "7cfe64178ada9a5ebff4bb28ffe3ee81",
     "grade": false,
     "grade_id": "cell-12a2471cada03991",
     "locked": false,
     "schema_version": 3,
     "solution": true
    }
   },
   "outputs": [],
   "source": [
    "np.random.seed(42)\n",
    "# BEGIN CODE HERE\n",
    "zero_array =  np.zeros((3,4))\n",
    "one_array = np.ones((4,5))\n",
    "random_array = 10 * np.random.random((2,3)) + 0\n",
    "\n",
    "#END CODE HERE"
   ]
  },
  {
   "cell_type": "code",
   "execution_count": 77,
   "metadata": {
    "colab": {},
    "colab_type": "code",
    "deletable": false,
    "editable": false,
    "id": "JIU2YWX18E5b",
    "nbgrader": {
     "cell_type": "code",
     "checksum": "ff7492f8bd8643cc3dff1e828e965ca5",
     "grade": true,
     "grade_id": "cell-2fa3e8e2357fcf87",
     "locked": true,
     "points": 1,
     "schema_version": 3,
     "solution": false
    }
   },
   "outputs": [
    {
     "name": "stdout",
     "output_type": "stream",
     "text": [
      "zero_array:[[0. 0. 0. 0.]\n",
      " [0. 0. 0. 0.]\n",
      " [0. 0. 0. 0.]]\n",
      "one_array:[[1. 1. 1. 1. 1.]\n",
      " [1. 1. 1. 1. 1.]\n",
      " [1. 1. 1. 1. 1.]\n",
      " [1. 1. 1. 1. 1.]]\n",
      "random_array:[[3.74540119 9.50714306 7.31993942]\n",
      " [5.98658484 1.5601864  1.5599452 ]]\n"
     ]
    }
   ],
   "source": [
    "print(\"zero_array:\" + str(zero_array))\n",
    "print(\"one_array:\" + str(one_array))\n",
    "print(\"random_array:\" + str(random_array))\n"
   ]
  },
  {
   "cell_type": "markdown",
   "metadata": {
    "colab_type": "text",
    "deletable": false,
    "editable": false,
    "id": "tySai5aIFVJC",
    "nbgrader": {
     "cell_type": "markdown",
     "checksum": "a6a9d4bbfed398d52187df7fcf1909b6",
     "grade": false,
     "grade_id": "cell-b207f4139851372d",
     "locked": true,
     "schema_version": 3,
     "solution": false
    }
   },
   "source": [
    "Two common numpy functions used are [np.shape](https://docs.scipy.org/doc/numpy/reference/generated/numpy.ndarray.shape.html) and [np.reshape()](https://docs.scipy.org/doc/numpy/reference/generated/numpy.reshape.html). \n",
    "- X.shape is used to get the shape (dimension) of a matrix/vector X. \n",
    "- X.reshape(...) is used to reshape X into some other dimension. "
   ]
  },
  {
   "cell_type": "markdown",
   "metadata": {
    "colab_type": "text",
    "deletable": false,
    "editable": false,
    "id": "vZhJzYRGF9zG",
    "nbgrader": {
     "cell_type": "markdown",
     "checksum": "47d2e59150fee69d309b6cf52359ea99",
     "grade": false,
     "grade_id": "cell-af88a87eac6bd364",
     "locked": true,
     "schema_version": 3,
     "solution": false
    }
   },
   "source": [
    "**1.1.4 Exercise**: Implement the function **custom_reshape** that takes an input of shape (length, height, depth) and returns a vector of shape (length\\*height\\*depth, 1)."
   ]
  },
  {
   "cell_type": "code",
   "execution_count": 78,
   "metadata": {
    "colab": {},
    "colab_type": "code",
    "deletable": false,
    "id": "pkZYNHUd-lHI",
    "nbgrader": {
     "cell_type": "code",
     "checksum": "1407cc96ca0642fe73c47336bb221a66",
     "grade": false,
     "grade_id": "cell-5ba0e15615d720a6",
     "locked": false,
     "schema_version": 3,
     "solution": true
    }
   },
   "outputs": [],
   "source": [
    "def custom_reshape(my_array):\n",
    "    \"\"\"\n",
    "    Argument:\n",
    "    my_array -- a numpy array of shape (length, height, depth)\n",
    "    \n",
    "    Returns:\n",
    "    v -- a vector of shape (length*height*depth, 1)\n",
    "    \"\"\"\n",
    "    # BEGIN CODE HERE\n",
    "    \n",
    "    length, height, depth = my_array.shape\n",
    "    v = my_array.reshape((length * height * depth, 1))\n",
    "\n",
    "    #END CODE HERE\n",
    "\n",
    "    return v"
   ]
  },
  {
   "cell_type": "code",
   "execution_count": 79,
   "metadata": {
    "colab": {},
    "colab_type": "code",
    "deletable": false,
    "editable": false,
    "id": "GXm1d3xpG8tC",
    "nbgrader": {
     "cell_type": "code",
     "checksum": "5d249705ca464fc7f97a3abacc9ce833",
     "grade": true,
     "grade_id": "cell-270444659016ab2f",
     "locked": true,
     "points": 1,
     "schema_version": 3,
     "solution": false
    }
   },
   "outputs": [
    {
     "name": "stdout",
     "output_type": "stream",
     "text": [
      "custon_reshape(my_array) = [[0.67826139]\n",
      " [0.29380381]\n",
      " [0.90714982]\n",
      " [0.52835647]\n",
      " [0.4215251 ]\n",
      " [0.45017551]\n",
      " [0.92814219]\n",
      " [0.96677647]\n",
      " [0.85304703]\n",
      " [0.52351845]\n",
      " [0.19981397]\n",
      " [0.27417313]\n",
      " [0.60659855]\n",
      " [0.00533165]\n",
      " [0.10820313]\n",
      " [0.49978937]\n",
      " [0.34144279]\n",
      " [0.94630077]]\n"
     ]
    }
   ],
   "source": [
    "# This is a 3 by 3 by 2 array.\n",
    "my_array = np.array([[[ 0.67826139,  0.29380381],\n",
    "        [ 0.90714982,  0.52835647],\n",
    "        [ 0.4215251 ,  0.45017551]],\n",
    "\n",
    "       [[ 0.92814219,  0.96677647],\n",
    "        [ 0.85304703,  0.52351845],\n",
    "        [ 0.19981397,  0.27417313]],\n",
    "\n",
    "       [[ 0.60659855,  0.00533165],\n",
    "        [ 0.10820313,  0.49978937],\n",
    "        [ 0.34144279,  0.94630077]]])\n",
    "\n",
    "print (\"custon_reshape(my_array) = \" + str(custom_reshape(my_array)))\n"
   ]
  },
  {
   "cell_type": "markdown",
   "metadata": {
    "colab_type": "text",
    "deletable": false,
    "editable": false,
    "id": "fEzC25g3HSl_",
    "nbgrader": {
     "cell_type": "markdown",
     "checksum": "9aeb5071814954d38141ef7221a5d9d6",
     "grade": false,
     "grade_id": "cell-db1ff76b8d993506",
     "locked": true,
     "schema_version": 3,
     "solution": false
    }
   },
   "source": [
    "**Expected Output**: \n",
    "\n",
    "\n",
    "<table>\n",
    "     <tr> \n",
    "       <td> custon_reshape(my_array) </td> \n",
    "       <td> [[ 0.67826139]\n",
    " [ 0.29380381]\n",
    " [ 0.90714982]\n",
    " [ 0.52835647]\n",
    " [ 0.4215251 ]\n",
    " [ 0.45017551]\n",
    " [ 0.92814219]\n",
    " [ 0.96677647]\n",
    " [ 0.85304703]\n",
    " [ 0.52351845]\n",
    " [ 0.19981397]\n",
    " [ 0.27417313]\n",
    " [ 0.60659855]\n",
    " [ 0.00533165]\n",
    " [ 0.10820313]\n",
    " [ 0.49978937]\n",
    " [ 0.34144279]\n",
    " [ 0.94630077]]</td> \n",
    "     </tr>\n",
    "    \n",
    "   \n",
    "</table>"
   ]
  },
  {
   "cell_type": "markdown",
   "metadata": {
    "colab_type": "text",
    "deletable": false,
    "editable": false,
    "id": "o3DYNNXZIbYd",
    "nbgrader": {
     "cell_type": "markdown",
     "checksum": "69a8da5cff899b8dd1fa6b5e8e931a14",
     "grade": false,
     "grade_id": "cell-cea361d2c51faef2",
     "locked": true,
     "schema_version": 3,
     "solution": false
    }
   },
   "source": [
    "**1.1.5 Exercise**: Create an array of 50 evenly spaced values from 0 to 3 using the np.linspace() function"
   ]
  },
  {
   "cell_type": "code",
   "execution_count": 80,
   "metadata": {
    "colab": {},
    "colab_type": "code",
    "deletable": false,
    "id": "YLm1wTnwHHaP",
    "nbgrader": {
     "cell_type": "code",
     "checksum": "5f5e403f465cd031fb594c881134caad",
     "grade": false,
     "grade_id": "cell-8b54354fe40e9e69",
     "locked": false,
     "schema_version": 3,
     "solution": true
    }
   },
   "outputs": [],
   "source": [
    "# BEGIN CODE HERE\n",
    "x = np.linspace(0, 3, num=50)\n",
    "\n",
    "#END CODE HERE\n"
   ]
  },
  {
   "cell_type": "code",
   "execution_count": 81,
   "metadata": {
    "colab": {},
    "colab_type": "code",
    "deletable": false,
    "editable": false,
    "id": "rz_J06kzKqsa",
    "nbgrader": {
     "cell_type": "code",
     "checksum": "f5cad77ff7c81287529ca2ca7f48dd67",
     "grade": true,
     "grade_id": "cell-c7fa43b349200975",
     "locked": true,
     "points": 1,
     "schema_version": 3,
     "solution": false
    }
   },
   "outputs": [
    {
     "name": "stdout",
     "output_type": "stream",
     "text": [
      "x: [0.         0.06122449 0.12244898 0.18367347 0.24489796 0.30612245\n",
      " 0.36734694 0.42857143 0.48979592 0.55102041 0.6122449  0.67346939\n",
      " 0.73469388 0.79591837 0.85714286 0.91836735 0.97959184 1.04081633\n",
      " 1.10204082 1.16326531 1.2244898  1.28571429 1.34693878 1.40816327\n",
      " 1.46938776 1.53061224 1.59183673 1.65306122 1.71428571 1.7755102\n",
      " 1.83673469 1.89795918 1.95918367 2.02040816 2.08163265 2.14285714\n",
      " 2.20408163 2.26530612 2.32653061 2.3877551  2.44897959 2.51020408\n",
      " 2.57142857 2.63265306 2.69387755 2.75510204 2.81632653 2.87755102\n",
      " 2.93877551 3.        ]\n"
     ]
    }
   ],
   "source": [
    "print (\"x: \" + str(x))\n"
   ]
  },
  {
   "cell_type": "markdown",
   "metadata": {
    "colab_type": "text",
    "deletable": false,
    "editable": false,
    "id": "P-wd0gUgO_ud",
    "nbgrader": {
     "cell_type": "markdown",
     "checksum": "d49a30f348a6f5065f4092d266e36190",
     "grade": false,
     "grade_id": "cell-ea2656904d795b46",
     "locked": true,
     "schema_version": 3,
     "solution": false
    }
   },
   "source": [
    "**1.1.6 Exercise**: Draw 20 random samples from a multivariate normal distribution using the [numpy.random.multivariate_normal](https://docs.scipy.org/doc/numpy-1.14.0/reference/generated/numpy.random.multivariate_normal.html#numpy.random.multivariate_normal). Use the parameters given"
   ]
  },
  {
   "cell_type": "code",
   "execution_count": 82,
   "metadata": {
    "colab": {},
    "colab_type": "code",
    "deletable": false,
    "id": "JrbNyLGIKxlg",
    "nbgrader": {
     "cell_type": "code",
     "checksum": "ef6bc67133b9fcea36942434d55c3dc9",
     "grade": false,
     "grade_id": "cell-2a9c3ba6c99bd3e8",
     "locked": false,
     "schema_version": 3,
     "solution": true
    }
   },
   "outputs": [],
   "source": [
    "np.random.seed(42)\n",
    "num_observations = 20\n",
    "mean = [0, 0]\n",
    "cov = [[1, 0], [0, 100]]\n",
    "\n",
    "# BEGIN CODE HERE\n",
    "multi = np.random.multivariate_normal(mean, cov, 20)\n",
    "#END CODE HERE\n"
   ]
  },
  {
   "cell_type": "code",
   "execution_count": 83,
   "metadata": {
    "colab": {},
    "colab_type": "code",
    "deletable": false,
    "editable": false,
    "id": "HpfTZJydGWYy",
    "nbgrader": {
     "cell_type": "code",
     "checksum": "2c210de64e5d920cbc63f27d15b3531f",
     "grade": true,
     "grade_id": "cell-619e6322c1ac5741",
     "locked": true,
     "points": 1,
     "schema_version": 3,
     "solution": false
    }
   },
   "outputs": [
    {
     "name": "stdout",
     "output_type": "stream",
     "text": [
      "x: [[ -0.1382643    4.96714153]\n",
      " [  1.52302986   6.47688538]\n",
      " [ -0.23413696  -2.34153375]\n",
      " [  0.76743473  15.79212816]\n",
      " [  0.54256004  -4.69474386]\n",
      " [ -0.46572975  -4.63417693]\n",
      " [ -1.91328024   2.41962272]\n",
      " [ -0.56228753 -17.24917833]\n",
      " [  0.31424733 -10.1283112 ]\n",
      " [ -1.4123037   -9.08024076]\n",
      " [ -0.2257763   14.65648769]\n",
      " [ -1.42474819   0.67528205]\n",
      " [  0.11092259  -5.44382725]\n",
      " [  0.37569802 -11.50993577]\n",
      " [ -0.29169375  -6.0063869 ]\n",
      " [  1.85227818  -6.01706612]\n",
      " [ -1.05771093  -0.13497225]\n",
      " [ -1.22084365   8.22544912]\n",
      " [ -1.95967012   2.08863595]\n",
      " [  0.19686124 -13.28186049]]\n"
     ]
    }
   ],
   "source": [
    "print (\"x: \" + str(multi))\n"
   ]
  },
  {
   "cell_type": "markdown",
   "metadata": {
    "colab_type": "text",
    "deletable": false,
    "editable": false,
    "id": "QUoFxsrhHcTC",
    "nbgrader": {
     "cell_type": "markdown",
     "checksum": "7edb1f59507663051751bfaab105ad15",
     "grade": false,
     "grade_id": "cell-6eaf28f729f9e542",
     "locked": true,
     "schema_version": 3,
     "solution": false
    }
   },
   "source": [
    "**1.1.7 Exercise**: Change the *?* so as the scatter plot to show the values of the *multi* variable"
   ]
  },
  {
   "cell_type": "code",
   "execution_count": 84,
   "metadata": {
    "colab": {},
    "colab_type": "code",
    "deletable": false,
    "id": "0IOzhD78QTwe",
    "nbgrader": {
     "cell_type": "code",
     "checksum": "d47a0379d7a2b7094d1870534258a12b",
     "grade": true,
     "grade_id": "cell-c3451c6fcbd04065",
     "locked": false,
     "points": 1,
     "schema_version": 3,
     "solution": true
    },
    "scrolled": false
   },
   "outputs": [
    {
     "data": {
      "text/plain": [
       "<matplotlib.collections.PathCollection at 0x7f211a51e850>"
      ]
     },
     "execution_count": 84,
     "metadata": {},
     "output_type": "execute_result"
    },
    {
     "data": {
      "image/png": "[encoded data removed]",
      "text/plain": [
       "<Figure size 576x576 with 1 Axes>"
      ]
     },
     "metadata": {
      "needs_background": "light"
     },
     "output_type": "display_data"
    }
   ],
   "source": [
    "# Run this block to see a visual represntation of your samples.\n",
    "import matplotlib.pyplot as plt\n",
    "plt.figure(figsize=(8,8))\n",
    "# BEGIN CODE HERE\n",
    "plt.scatter(multi[0:num_observations, 0], \n",
    "            multi[0:num_observations, 1],\n",
    "            c = 'r', alpha = .4)\n",
    "#END CODE HERE"
   ]
  },
  {
   "cell_type": "markdown",
   "metadata": {
    "colab_type": "text",
    "deletable": false,
    "editable": false,
    "id": "V--bLaLSRE2y",
    "nbgrader": {
     "cell_type": "markdown",
     "checksum": "ad41b2945662342c1395087603adfc47",
     "grade": false,
     "grade_id": "cell-7c380b97c5fc06a2",
     "locked": true,
     "schema_version": 3,
     "solution": false
    }
   },
   "source": [
    "### 1.2 The very basic of Pandas ###"
   ]
  },
  {
   "cell_type": "markdown",
   "metadata": {
    "colab_type": "text",
    "deletable": false,
    "editable": false,
    "id": "xIHQMFo_RisD",
    "nbgrader": {
     "cell_type": "markdown",
     "checksum": "331ae06f92bb962955a2dda47cf6d015",
     "grade": false,
     "grade_id": "cell-b5ae015fc71a9d22",
     "locked": true,
     "schema_version": 3,
     "solution": false
    }
   },
   "source": [
    "- Read & Write CSV\n",
    "- iloc, loc, and slices\n",
    "- Merge & concatenate"
   ]
  },
  {
   "cell_type": "markdown",
   "metadata": {
    "colab_type": "text",
    "deletable": false,
    "editable": false,
    "id": "_41lZvsfCqAp",
    "nbgrader": {
     "cell_type": "markdown",
     "checksum": "a4356220fa477bd021de8d2235e3eeb4",
     "grade": false,
     "grade_id": "cell-35f23625c6db91ad",
     "locked": true,
     "schema_version": 3,
     "solution": false
    }
   },
   "source": [
    "**1.2.1 Exercise:** Read the file input1.csv into a dataframe using the pandas read_csv() function. Set the 1st row as the names of the columns.\n",
    "\n"
   ]
  },
  {
   "cell_type": "code",
   "execution_count": 85,
   "metadata": {
    "colab": {},
    "colab_type": "code",
    "deletable": false,
    "id": "6-pHq6FcEw8_",
    "nbgrader": {
     "cell_type": "code",
     "checksum": "1c728559431b695e78382485700a2b48",
     "grade": true,
     "grade_id": "cell-7393b2df6214689f",
     "locked": false,
     "points": 1,
     "schema_version": 3,
     "solution": true
    }
   },
   "outputs": [],
   "source": [
    "# BEGIN CODE HERE\n",
    "df1 = pd.read_csv(\"input1.csv\") \n",
    "\n",
    "#END CODE HERE"
   ]
  },
  {
   "cell_type": "code",
   "execution_count": 86,
   "metadata": {
    "colab": {},
    "colab_type": "code",
    "deletable": false,
    "editable": false,
    "id": "CP-TMTEJGJFy",
    "nbgrader": {
     "cell_type": "code",
     "checksum": "ee9c56b977370278eb59c7e3f5dcc734",
     "grade": false,
     "grade_id": "cell-874ff1d909b5aa3c",
     "locked": true,
     "schema_version": 3,
     "solution": false
    }
   },
   "outputs": [
    {
     "data": {
      "text/html": [
       "<div>\n",
       "<style scoped>\n",
       "    .dataframe tbody tr th:only-of-type {\n",
       "        vertical-align: middle;\n",
       "    }\n",
       "\n",
       "    .dataframe tbody tr th {\n",
       "        vertical-align: top;\n",
       "    }\n",
       "\n",
       "    .dataframe thead th {\n",
       "        text-align: right;\n",
       "    }\n",
       "</style>\n",
       "<table border=\"1\" class=\"dataframe\">\n",
       "  <thead>\n",
       "    <tr style=\"text-align: right;\">\n",
       "      <th></th>\n",
       "      <th>age</th>\n",
       "      <th>sex</th>\n",
       "      <th>cp</th>\n",
       "      <th>trestbps</th>\n",
       "      <th>chol</th>\n",
       "      <th>fbs</th>\n",
       "      <th>restecg</th>\n",
       "      <th>thalach</th>\n",
       "      <th>exang</th>\n",
       "      <th>oldpeak</th>\n",
       "      <th>slope</th>\n",
       "      <th>ca</th>\n",
       "      <th>thal</th>\n",
       "      <th>target</th>\n",
       "    </tr>\n",
       "  </thead>\n",
       "  <tbody>\n",
       "    <tr>\n",
       "      <td>0</td>\n",
       "      <td>63</td>\n",
       "      <td>1</td>\n",
       "      <td>3</td>\n",
       "      <td>145</td>\n",
       "      <td>233</td>\n",
       "      <td>1</td>\n",
       "      <td>0</td>\n",
       "      <td>150</td>\n",
       "      <td>0</td>\n",
       "      <td>2.3</td>\n",
       "      <td>0</td>\n",
       "      <td>0</td>\n",
       "      <td>1</td>\n",
       "      <td>1</td>\n",
       "    </tr>\n",
       "    <tr>\n",
       "      <td>1</td>\n",
       "      <td>37</td>\n",
       "      <td>1</td>\n",
       "      <td>2</td>\n",
       "      <td>130</td>\n",
       "      <td>250</td>\n",
       "      <td>0</td>\n",
       "      <td>1</td>\n",
       "      <td>187</td>\n",
       "      <td>0</td>\n",
       "      <td>3.5</td>\n",
       "      <td>0</td>\n",
       "      <td>0</td>\n",
       "      <td>2</td>\n",
       "      <td>1</td>\n",
       "    </tr>\n",
       "    <tr>\n",
       "      <td>2</td>\n",
       "      <td>41</td>\n",
       "      <td>0</td>\n",
       "      <td>1</td>\n",
       "      <td>130</td>\n",
       "      <td>204</td>\n",
       "      <td>0</td>\n",
       "      <td>0</td>\n",
       "      <td>172</td>\n",
       "      <td>0</td>\n",
       "      <td>1.4</td>\n",
       "      <td>2</td>\n",
       "      <td>0</td>\n",
       "      <td>2</td>\n",
       "      <td>1</td>\n",
       "    </tr>\n",
       "    <tr>\n",
       "      <td>3</td>\n",
       "      <td>56</td>\n",
       "      <td>1</td>\n",
       "      <td>1</td>\n",
       "      <td>120</td>\n",
       "      <td>236</td>\n",
       "      <td>0</td>\n",
       "      <td>1</td>\n",
       "      <td>178</td>\n",
       "      <td>0</td>\n",
       "      <td>0.8</td>\n",
       "      <td>2</td>\n",
       "      <td>0</td>\n",
       "      <td>2</td>\n",
       "      <td>1</td>\n",
       "    </tr>\n",
       "    <tr>\n",
       "      <td>4</td>\n",
       "      <td>57</td>\n",
       "      <td>0</td>\n",
       "      <td>0</td>\n",
       "      <td>120</td>\n",
       "      <td>354</td>\n",
       "      <td>0</td>\n",
       "      <td>1</td>\n",
       "      <td>163</td>\n",
       "      <td>1</td>\n",
       "      <td>0.6</td>\n",
       "      <td>2</td>\n",
       "      <td>0</td>\n",
       "      <td>2</td>\n",
       "      <td>1</td>\n",
       "    </tr>\n",
       "  </tbody>\n",
       "</table>\n",
       "</div>"
      ],
      "text/plain": [
       "   age  sex  cp  trestbps  chol  fbs  restecg  thalach  exang  oldpeak  slope  \\\n",
       "0   63    1   3       145   233    1        0      150      0      2.3      0   \n",
       "1   37    1   2       130   250    0        1      187      0      3.5      0   \n",
       "2   41    0   1       130   204    0        0      172      0      1.4      2   \n",
       "3   56    1   1       120   236    0        1      178      0      0.8      2   \n",
       "4   57    0   0       120   354    0        1      163      1      0.6      2   \n",
       "\n",
       "   ca  thal  target  \n",
       "0   0     1       1  \n",
       "1   0     2       1  \n",
       "2   0     2       1  \n",
       "3   0     2       1  \n",
       "4   0     2       1  "
      ]
     },
     "execution_count": 86,
     "metadata": {},
     "output_type": "execute_result"
    }
   ],
   "source": [
    "df1.head()"
   ]
  },
  {
   "cell_type": "markdown",
   "metadata": {
    "colab_type": "text",
    "deletable": false,
    "editable": false,
    "id": "9XWwZLTRIarc",
    "nbgrader": {
     "cell_type": "markdown",
     "checksum": "336a187189c7f479e4f944734749377a",
     "grade": false,
     "grade_id": "cell-c4918726834a571d",
     "locked": true,
     "schema_version": 3,
     "solution": false
    }
   },
   "source": [
    "**1.2.2 Exercise:** Find the mean value of the *trestbps* variable.\n"
   ]
  },
  {
   "cell_type": "code",
   "execution_count": 87,
   "metadata": {
    "colab": {},
    "colab_type": "code",
    "deletable": false,
    "id": "wG2O0oTZIrFR",
    "nbgrader": {
     "cell_type": "code",
     "checksum": "9bf12680f5840793cf5aaadd6f908a4a",
     "grade": false,
     "grade_id": "cell-c9ffcf3a751e1f97",
     "locked": false,
     "schema_version": 3,
     "solution": true
    }
   },
   "outputs": [],
   "source": [
    "# BEGIN CODE HERE\n",
    "mean_trestbps = df1.loc[:,\"trestbps\"].mean()\n",
    "\n",
    "#END CODE HERE"
   ]
  },
  {
   "cell_type": "code",
   "execution_count": 88,
   "metadata": {
    "colab": {},
    "colab_type": "code",
    "deletable": false,
    "editable": false,
    "id": "Oc3WyE2PI0z-",
    "nbgrader": {
     "cell_type": "code",
     "checksum": "c8e6143286a86f156fa4dffc466a4e24",
     "grade": true,
     "grade_id": "cell-898f605e5d549af1",
     "locked": true,
     "points": 1,
     "schema_version": 3,
     "solution": false
    }
   },
   "outputs": [
    {
     "name": "stdout",
     "output_type": "stream",
     "text": [
      "Average:128.77\n"
     ]
    }
   ],
   "source": [
    "print(\"Average:\" + str(mean_trestbps) )\n",
    "\n"
   ]
  },
  {
   "cell_type": "markdown",
   "metadata": {
    "colab_type": "text",
    "deletable": false,
    "editable": false,
    "id": "GhvZ-oYSK3gg",
    "nbgrader": {
     "cell_type": "markdown",
     "checksum": "ed351122807f3b8a05fd80279e60c05b",
     "grade": false,
     "grade_id": "cell-f1a84ce76c579715",
     "locked": true,
     "schema_version": 3,
     "solution": false
    }
   },
   "source": [
    "**1.2.3 Exercise:** Read the file input2.csv into a dataframe using the pandas read_csv() function and concatenate it with df1 using pd.concat().\n"
   ]
  },
  {
   "cell_type": "code",
   "execution_count": 89,
   "metadata": {
    "colab": {},
    "colab_type": "code",
    "deletable": false,
    "id": "JH4eXERVLCei",
    "nbgrader": {
     "cell_type": "code",
     "checksum": "ad9691aceaad0d451ed6c8de2719e469",
     "grade": true,
     "grade_id": "cell-2557b9275a04ae8b",
     "locked": false,
     "points": 1,
     "schema_version": 3,
     "solution": true
    }
   },
   "outputs": [],
   "source": [
    "# BEGIN CODE HERE\n",
    "df2 = pd.read_csv(\"input2.csv\", header=None)\n",
    "df2.columns = df1.columns\n",
    "df = pd.concat([df1,df2])\n",
    "\n",
    "#END CODE HERE"
   ]
  },
  {
   "cell_type": "code",
   "execution_count": 90,
   "metadata": {
    "colab": {},
    "colab_type": "code",
    "deletable": false,
    "editable": false,
    "id": "9AtvDaijLUdM",
    "nbgrader": {
     "cell_type": "code",
     "checksum": "aa94d9091fc7a03edae6c525c697a015",
     "grade": false,
     "grade_id": "cell-559a3277fa81ffdc",
     "locked": true,
     "schema_version": 3,
     "solution": false
    }
   },
   "outputs": [
    {
     "data": {
      "text/html": [
       "<div>\n",
       "<style scoped>\n",
       "    .dataframe tbody tr th:only-of-type {\n",
       "        vertical-align: middle;\n",
       "    }\n",
       "\n",
       "    .dataframe tbody tr th {\n",
       "        vertical-align: top;\n",
       "    }\n",
       "\n",
       "    .dataframe thead th {\n",
       "        text-align: right;\n",
       "    }\n",
       "</style>\n",
       "<table border=\"1\" class=\"dataframe\">\n",
       "  <thead>\n",
       "    <tr style=\"text-align: right;\">\n",
       "      <th></th>\n",
       "      <th>age</th>\n",
       "      <th>sex</th>\n",
       "      <th>cp</th>\n",
       "      <th>trestbps</th>\n",
       "      <th>chol</th>\n",
       "      <th>fbs</th>\n",
       "      <th>restecg</th>\n",
       "      <th>thalach</th>\n",
       "      <th>exang</th>\n",
       "      <th>oldpeak</th>\n",
       "      <th>slope</th>\n",
       "      <th>ca</th>\n",
       "      <th>thal</th>\n",
       "      <th>target</th>\n",
       "    </tr>\n",
       "  </thead>\n",
       "  <tbody>\n",
       "    <tr>\n",
       "      <td>0</td>\n",
       "      <td>63</td>\n",
       "      <td>1</td>\n",
       "      <td>3</td>\n",
       "      <td>145</td>\n",
       "      <td>233</td>\n",
       "      <td>1</td>\n",
       "      <td>0</td>\n",
       "      <td>150</td>\n",
       "      <td>0</td>\n",
       "      <td>2.3</td>\n",
       "      <td>0</td>\n",
       "      <td>0</td>\n",
       "      <td>1</td>\n",
       "      <td>1</td>\n",
       "    </tr>\n",
       "    <tr>\n",
       "      <td>1</td>\n",
       "      <td>37</td>\n",
       "      <td>1</td>\n",
       "      <td>2</td>\n",
       "      <td>130</td>\n",
       "      <td>250</td>\n",
       "      <td>0</td>\n",
       "      <td>1</td>\n",
       "      <td>187</td>\n",
       "      <td>0</td>\n",
       "      <td>3.5</td>\n",
       "      <td>0</td>\n",
       "      <td>0</td>\n",
       "      <td>2</td>\n",
       "      <td>1</td>\n",
       "    </tr>\n",
       "    <tr>\n",
       "      <td>2</td>\n",
       "      <td>41</td>\n",
       "      <td>0</td>\n",
       "      <td>1</td>\n",
       "      <td>130</td>\n",
       "      <td>204</td>\n",
       "      <td>0</td>\n",
       "      <td>0</td>\n",
       "      <td>172</td>\n",
       "      <td>0</td>\n",
       "      <td>1.4</td>\n",
       "      <td>2</td>\n",
       "      <td>0</td>\n",
       "      <td>2</td>\n",
       "      <td>1</td>\n",
       "    </tr>\n",
       "    <tr>\n",
       "      <td>3</td>\n",
       "      <td>56</td>\n",
       "      <td>1</td>\n",
       "      <td>1</td>\n",
       "      <td>120</td>\n",
       "      <td>236</td>\n",
       "      <td>0</td>\n",
       "      <td>1</td>\n",
       "      <td>178</td>\n",
       "      <td>0</td>\n",
       "      <td>0.8</td>\n",
       "      <td>2</td>\n",
       "      <td>0</td>\n",
       "      <td>2</td>\n",
       "      <td>1</td>\n",
       "    </tr>\n",
       "    <tr>\n",
       "      <td>4</td>\n",
       "      <td>57</td>\n",
       "      <td>0</td>\n",
       "      <td>0</td>\n",
       "      <td>120</td>\n",
       "      <td>354</td>\n",
       "      <td>0</td>\n",
       "      <td>1</td>\n",
       "      <td>163</td>\n",
       "      <td>1</td>\n",
       "      <td>0.6</td>\n",
       "      <td>2</td>\n",
       "      <td>0</td>\n",
       "      <td>2</td>\n",
       "      <td>1</td>\n",
       "    </tr>\n",
       "    <tr>\n",
       "      <td>...</td>\n",
       "      <td>...</td>\n",
       "      <td>...</td>\n",
       "      <td>...</td>\n",
       "      <td>...</td>\n",
       "      <td>...</td>\n",
       "      <td>...</td>\n",
       "      <td>...</td>\n",
       "      <td>...</td>\n",
       "      <td>...</td>\n",
       "      <td>...</td>\n",
       "      <td>...</td>\n",
       "      <td>...</td>\n",
       "      <td>...</td>\n",
       "      <td>...</td>\n",
       "    </tr>\n",
       "    <tr>\n",
       "      <td>198</td>\n",
       "      <td>57</td>\n",
       "      <td>0</td>\n",
       "      <td>0</td>\n",
       "      <td>140</td>\n",
       "      <td>241</td>\n",
       "      <td>0</td>\n",
       "      <td>1</td>\n",
       "      <td>123</td>\n",
       "      <td>1</td>\n",
       "      <td>0.2</td>\n",
       "      <td>1</td>\n",
       "      <td>0</td>\n",
       "      <td>3</td>\n",
       "      <td>0</td>\n",
       "    </tr>\n",
       "    <tr>\n",
       "      <td>199</td>\n",
       "      <td>45</td>\n",
       "      <td>1</td>\n",
       "      <td>3</td>\n",
       "      <td>110</td>\n",
       "      <td>264</td>\n",
       "      <td>0</td>\n",
       "      <td>1</td>\n",
       "      <td>132</td>\n",
       "      <td>0</td>\n",
       "      <td>1.2</td>\n",
       "      <td>1</td>\n",
       "      <td>0</td>\n",
       "      <td>3</td>\n",
       "      <td>0</td>\n",
       "    </tr>\n",
       "    <tr>\n",
       "      <td>200</td>\n",
       "      <td>68</td>\n",
       "      <td>1</td>\n",
       "      <td>0</td>\n",
       "      <td>144</td>\n",
       "      <td>193</td>\n",
       "      <td>1</td>\n",
       "      <td>1</td>\n",
       "      <td>141</td>\n",
       "      <td>0</td>\n",
       "      <td>3.4</td>\n",
       "      <td>1</td>\n",
       "      <td>2</td>\n",
       "      <td>3</td>\n",
       "      <td>0</td>\n",
       "    </tr>\n",
       "    <tr>\n",
       "      <td>201</td>\n",
       "      <td>57</td>\n",
       "      <td>1</td>\n",
       "      <td>0</td>\n",
       "      <td>130</td>\n",
       "      <td>131</td>\n",
       "      <td>0</td>\n",
       "      <td>1</td>\n",
       "      <td>115</td>\n",
       "      <td>1</td>\n",
       "      <td>1.2</td>\n",
       "      <td>1</td>\n",
       "      <td>1</td>\n",
       "      <td>3</td>\n",
       "      <td>0</td>\n",
       "    </tr>\n",
       "    <tr>\n",
       "      <td>202</td>\n",
       "      <td>57</td>\n",
       "      <td>0</td>\n",
       "      <td>1</td>\n",
       "      <td>130</td>\n",
       "      <td>236</td>\n",
       "      <td>0</td>\n",
       "      <td>0</td>\n",
       "      <td>174</td>\n",
       "      <td>0</td>\n",
       "      <td>0.0</td>\n",
       "      <td>1</td>\n",
       "      <td>1</td>\n",
       "      <td>2</td>\n",
       "      <td>0</td>\n",
       "    </tr>\n",
       "  </tbody>\n",
       "</table>\n",
       "<p>303 rows × 14 columns</p>\n",
       "</div>"
      ],
      "text/plain": [
       "     age  sex  cp  trestbps  chol  fbs  restecg  thalach  exang  oldpeak  \\\n",
       "0     63    1   3       145   233    1        0      150      0      2.3   \n",
       "1     37    1   2       130   250    0        1      187      0      3.5   \n",
       "2     41    0   1       130   204    0        0      172      0      1.4   \n",
       "3     56    1   1       120   236    0        1      178      0      0.8   \n",
       "4     57    0   0       120   354    0        1      163      1      0.6   \n",
       "..   ...  ...  ..       ...   ...  ...      ...      ...    ...      ...   \n",
       "198   57    0   0       140   241    0        1      123      1      0.2   \n",
       "199   45    1   3       110   264    0        1      132      0      1.2   \n",
       "200   68    1   0       144   193    1        1      141      0      3.4   \n",
       "201   57    1   0       130   131    0        1      115      1      1.2   \n",
       "202   57    0   1       130   236    0        0      174      0      0.0   \n",
       "\n",
       "     slope  ca  thal  target  \n",
       "0        0   0     1       1  \n",
       "1        0   0     2       1  \n",
       "2        2   0     2       1  \n",
       "3        2   0     2       1  \n",
       "4        2   0     2       1  \n",
       "..     ...  ..   ...     ...  \n",
       "198      1   0     3       0  \n",
       "199      1   0     3       0  \n",
       "200      1   2     3       0  \n",
       "201      1   1     3       0  \n",
       "202      1   1     2       0  \n",
       "\n",
       "[303 rows x 14 columns]"
      ]
     },
     "execution_count": 90,
     "metadata": {},
     "output_type": "execute_result"
    }
   ],
   "source": [
    "df"
   ]
  },
  {
   "cell_type": "markdown",
   "metadata": {
    "colab_type": "text",
    "deletable": false,
    "editable": false,
    "id": "9QK8m9GRMNl4",
    "nbgrader": {
     "cell_type": "markdown",
     "checksum": "d0ff945d9969c0f8e85bfad047335b8e",
     "grade": false,
     "grade_id": "cell-320230170fd85580",
     "locked": true,
     "schema_version": 3,
     "solution": false
    }
   },
   "source": [
    "**1.2.4 Exercise:** Select the rows where *chol*>200 and only the columns age, sex, cp, chol, target. "
   ]
  },
  {
   "cell_type": "code",
   "execution_count": 91,
   "metadata": {
    "colab": {},
    "colab_type": "code",
    "deletable": false,
    "id": "2JPOulxuMhJL",
    "nbgrader": {
     "cell_type": "code",
     "checksum": "a990e3ac009f667d936190ad9c173262",
     "grade": true,
     "grade_id": "cell-6cc840a5339e424a",
     "locked": false,
     "points": 1,
     "schema_version": 3,
     "solution": true
    }
   },
   "outputs": [],
   "source": [
    "# BEGIN CODE HERE\n",
    "selected = df.loc[df['chol'] > 200]\n",
    "selected = selected[['age','sex','cp', 'chol', 'target']]\n",
    "\n",
    "#END CODE HERE"
   ]
  },
  {
   "cell_type": "code",
   "execution_count": 92,
   "metadata": {
    "colab": {},
    "colab_type": "code",
    "deletable": false,
    "editable": false,
    "id": "2afysp0zNI8H",
    "nbgrader": {
     "cell_type": "code",
     "checksum": "a373c40e8500c6724c483511ef8d145a",
     "grade": false,
     "grade_id": "cell-48693c5bbb61e79b",
     "locked": true,
     "schema_version": 3,
     "solution": false
    }
   },
   "outputs": [
    {
     "data": {
      "text/html": [
       "<div>\n",
       "<style scoped>\n",
       "    .dataframe tbody tr th:only-of-type {\n",
       "        vertical-align: middle;\n",
       "    }\n",
       "\n",
       "    .dataframe tbody tr th {\n",
       "        vertical-align: top;\n",
       "    }\n",
       "\n",
       "    .dataframe thead th {\n",
       "        text-align: right;\n",
       "    }\n",
       "</style>\n",
       "<table border=\"1\" class=\"dataframe\">\n",
       "  <thead>\n",
       "    <tr style=\"text-align: right;\">\n",
       "      <th></th>\n",
       "      <th>age</th>\n",
       "      <th>sex</th>\n",
       "      <th>cp</th>\n",
       "      <th>chol</th>\n",
       "      <th>target</th>\n",
       "    </tr>\n",
       "  </thead>\n",
       "  <tbody>\n",
       "    <tr>\n",
       "      <td>0</td>\n",
       "      <td>63</td>\n",
       "      <td>1</td>\n",
       "      <td>3</td>\n",
       "      <td>233</td>\n",
       "      <td>1</td>\n",
       "    </tr>\n",
       "    <tr>\n",
       "      <td>1</td>\n",
       "      <td>37</td>\n",
       "      <td>1</td>\n",
       "      <td>2</td>\n",
       "      <td>250</td>\n",
       "      <td>1</td>\n",
       "    </tr>\n",
       "    <tr>\n",
       "      <td>2</td>\n",
       "      <td>41</td>\n",
       "      <td>0</td>\n",
       "      <td>1</td>\n",
       "      <td>204</td>\n",
       "      <td>1</td>\n",
       "    </tr>\n",
       "    <tr>\n",
       "      <td>3</td>\n",
       "      <td>56</td>\n",
       "      <td>1</td>\n",
       "      <td>1</td>\n",
       "      <td>236</td>\n",
       "      <td>1</td>\n",
       "    </tr>\n",
       "    <tr>\n",
       "      <td>4</td>\n",
       "      <td>57</td>\n",
       "      <td>0</td>\n",
       "      <td>0</td>\n",
       "      <td>354</td>\n",
       "      <td>1</td>\n",
       "    </tr>\n",
       "    <tr>\n",
       "      <td>...</td>\n",
       "      <td>...</td>\n",
       "      <td>...</td>\n",
       "      <td>...</td>\n",
       "      <td>...</td>\n",
       "      <td>...</td>\n",
       "    </tr>\n",
       "    <tr>\n",
       "      <td>192</td>\n",
       "      <td>58</td>\n",
       "      <td>0</td>\n",
       "      <td>0</td>\n",
       "      <td>225</td>\n",
       "      <td>0</td>\n",
       "    </tr>\n",
       "    <tr>\n",
       "      <td>193</td>\n",
       "      <td>67</td>\n",
       "      <td>1</td>\n",
       "      <td>2</td>\n",
       "      <td>212</td>\n",
       "      <td>0</td>\n",
       "    </tr>\n",
       "    <tr>\n",
       "      <td>198</td>\n",
       "      <td>57</td>\n",
       "      <td>0</td>\n",
       "      <td>0</td>\n",
       "      <td>241</td>\n",
       "      <td>0</td>\n",
       "    </tr>\n",
       "    <tr>\n",
       "      <td>199</td>\n",
       "      <td>45</td>\n",
       "      <td>1</td>\n",
       "      <td>3</td>\n",
       "      <td>264</td>\n",
       "      <td>0</td>\n",
       "    </tr>\n",
       "    <tr>\n",
       "      <td>202</td>\n",
       "      <td>57</td>\n",
       "      <td>0</td>\n",
       "      <td>1</td>\n",
       "      <td>236</td>\n",
       "      <td>0</td>\n",
       "    </tr>\n",
       "  </tbody>\n",
       "</table>\n",
       "<p>252 rows × 5 columns</p>\n",
       "</div>"
      ],
      "text/plain": [
       "     age  sex  cp  chol  target\n",
       "0     63    1   3   233       1\n",
       "1     37    1   2   250       1\n",
       "2     41    0   1   204       1\n",
       "3     56    1   1   236       1\n",
       "4     57    0   0   354       1\n",
       "..   ...  ...  ..   ...     ...\n",
       "192   58    0   0   225       0\n",
       "193   67    1   2   212       0\n",
       "198   57    0   0   241       0\n",
       "199   45    1   3   264       0\n",
       "202   57    0   1   236       0\n",
       "\n",
       "[252 rows x 5 columns]"
      ]
     },
     "execution_count": 92,
     "metadata": {},
     "output_type": "execute_result"
    }
   ],
   "source": [
    "selected"
   ]
  },
  {
   "cell_type": "markdown",
   "metadata": {
    "colab_type": "text",
    "deletable": false,
    "editable": false,
    "id": "d_8E3vdsSe_h",
    "nbgrader": {
     "cell_type": "markdown",
     "checksum": "07c2f55dbfb129d7f518a1e65cf158d2",
     "grade": false,
     "grade_id": "cell-ec91fa8f3d207a07",
     "locked": true,
     "schema_version": 3,
     "solution": false
    }
   },
   "source": [
    "## 2.0 Linear Models ##\n",
    "\n",
    "In this part of the excersice you are going to build a logistic regression model from scratch."
   ]
  },
  {
   "cell_type": "markdown",
   "metadata": {
    "colab_type": "text",
    "deletable": false,
    "editable": false,
    "id": "sJMbzOu6QGqL",
    "nbgrader": {
     "cell_type": "markdown",
     "checksum": "500e359861de99caea19bbc01977a10c",
     "grade": false,
     "grade_id": "cell-5dbf93d86dbdf181",
     "locked": true,
     "schema_version": 3,
     "solution": false
    }
   },
   "source": [
    "**2.1 Exercise:** Implement the sigmoid function using numpy. \n",
    "\n",
    "sigmoid function:\n",
    "$$\\sigma(t)= \\dfrac{1}{1 + exp(-t)}$$"
   ]
  },
  {
   "cell_type": "code",
   "execution_count": 93,
   "metadata": {
    "colab": {},
    "colab_type": "code",
    "deletable": false,
    "id": "FDBfIMSNQYmZ",
    "nbgrader": {
     "cell_type": "code",
     "checksum": "d979d15e4854581735443b06fa9790ba",
     "grade": false,
     "grade_id": "cell-fb0446f35e18e729",
     "locked": false,
     "schema_version": 3,
     "solution": true
    }
   },
   "outputs": [],
   "source": [
    "def sigmoid(x):\n",
    "    \"\"\"\n",
    "    Compute the sigmoid of x\n",
    "\n",
    "    Arguments:\n",
    "    x -- A numpy array of any size\n",
    "\n",
    "    Return:\n",
    "    s -- sigmoid(x)\n",
    "    \"\"\"\n",
    "    # BEGIN CODE HERE\n",
    "    s = 1/(1 + np.exp(-x)) \n",
    "    \n",
    "    #END CODE HERE\n",
    "    \n",
    "    return s"
   ]
  },
  {
   "cell_type": "code",
   "execution_count": 94,
   "metadata": {
    "colab": {},
    "colab_type": "code",
    "deletable": false,
    "editable": false,
    "id": "ZRqupxwKRcRp",
    "nbgrader": {
     "cell_type": "code",
     "checksum": "98c34231b27c1d8be90deee50f23dc18",
     "grade": true,
     "grade_id": "cell-e7b2acaec5f0218a",
     "locked": true,
     "points": 5,
     "schema_version": 3,
     "solution": false
    }
   },
   "outputs": [
    {
     "name": "stdout",
     "output_type": "stream",
     "text": [
      "[0.88079708 0.95257413 0.98201379]\n"
     ]
    }
   ],
   "source": [
    "x = np.array([2, 3, 4])\n",
    "print(sigmoid(x))\n",
    "\n"
   ]
  },
  {
   "cell_type": "markdown",
   "metadata": {
    "colab_type": "text",
    "deletable": false,
    "editable": false,
    "id": "KFYp1zjbRt9p",
    "nbgrader": {
     "cell_type": "markdown",
     "checksum": "a4307fe509f7462d71b458340007a333",
     "grade": false,
     "grade_id": "cell-b79127fca8834e46",
     "locked": true,
     "schema_version": 3,
     "solution": false
    }
   },
   "source": [
    "**2.2 Exercise**: Implement parameter initialization in the cell below. You have to initialize w (weight vector) and b (bias) with zeros."
   ]
  },
  {
   "cell_type": "code",
   "execution_count": 95,
   "metadata": {
    "colab": {},
    "colab_type": "code",
    "deletable": false,
    "id": "PiLjAYCnUPSd",
    "nbgrader": {
     "cell_type": "code",
     "checksum": "42a64bc40736760b42cb07692eec11e2",
     "grade": false,
     "grade_id": "cell-1f0ef74ec507ba62",
     "locked": false,
     "schema_version": 3,
     "solution": true
    }
   },
   "outputs": [],
   "source": [
    "def initialize(dim):\n",
    "    \"\"\"  \n",
    "    Argument:\n",
    "    dim -- the number of parameters\n",
    "\n",
    "    Returns:\n",
    "    w -- initialized vector of shape (dim, 1)\n",
    "    b -- initialized scalar\n",
    "    \"\"\"\n",
    "    # BEGIN CODE HERE\n",
    "    w = np.zeros((dim, 1))\n",
    "    w = w.T\n",
    "    b = 0.0    \n",
    "    #END CODE HERE\n",
    "\n",
    "    assert(w.shape == (1, dim))\n",
    "    assert(isinstance(b, float) or isinstance(b, int))\n",
    "\n",
    "    return w,b"
   ]
  },
  {
   "cell_type": "code",
   "execution_count": 96,
   "metadata": {
    "colab": {},
    "colab_type": "code",
    "deletable": false,
    "editable": false,
    "id": "50YvP0ABYj8z",
    "nbgrader": {
     "cell_type": "code",
     "checksum": "6cac7c75ae3ba755f737c9a2e31e9225",
     "grade": true,
     "grade_id": "cell-15e1a42f5173d30b",
     "locked": true,
     "points": 2,
     "schema_version": 3,
     "solution": false
    }
   },
   "outputs": [
    {
     "name": "stdout",
     "output_type": "stream",
     "text": [
      "w = [[0. 0. 0. 0. 0.]]\n",
      "b = 0.0\n"
     ]
    }
   ],
   "source": [
    "dim = 5\n",
    "w, b = initialize(dim)\n",
    "print (\"w = \" + str(w))\n",
    "print (\"b = \" + str(b))\n",
    "\n"
   ]
  },
  {
   "cell_type": "markdown",
   "metadata": {
    "colab_type": "text",
    "deletable": false,
    "editable": false,
    "id": "aUOVogDFZZ3f",
    "nbgrader": {
     "cell_type": "markdown",
     "checksum": "a6463aa747cc81ced54b66a801e273d3",
     "grade": false,
     "grade_id": "cell-15b03530bea75821",
     "locked": true,
     "schema_version": 3,
     "solution": false
    }
   },
   "source": [
    "**2.3 Exercise**: Compute the cost of logistic regression using the sigmoid function above. You can find the dot product of two arrays by using the [numpy.dot()](https://docs.scipy.org/doc/numpy/reference/generated/numpy.dot.html)"
   ]
  },
  {
   "cell_type": "code",
   "execution_count": 97,
   "metadata": {
    "colab": {},
    "colab_type": "code",
    "deletable": false,
    "id": "pX9ZRpaFVEPF",
    "nbgrader": {
     "cell_type": "code",
     "checksum": "f5add774cd28b1cd1b7f8ca114a86579",
     "grade": false,
     "grade_id": "cell-881ad9c45016bf18",
     "locked": false,
     "schema_version": 3,
     "solution": true
    }
   },
   "outputs": [],
   "source": [
    "def compute_cost(w,b,X,Y):\n",
    "    \"\"\"\n",
    "    Arguments:\n",
    "    w -- weights\n",
    "    b -- bias\n",
    "    X -- input data\n",
    "    Y -- target or label vector\n",
    "\n",
    "    Return:\n",
    "    sigma -- the sigmoid of the z\n",
    "    cost -- cost for logistic regression\n",
    "    \"\"\"\n",
    "    # BEGIN CODE HERE\n",
    "    \n",
    "    m = X.shape[0]\n",
    "    z = np.dot(w, X.T) + b\n",
    "    sigma = sigmoid(z)\n",
    "    cost = -(1/m)*np.sum(Y*np.log(sigma)+(1-Y)*np.log(1-sigma))\n",
    "\n",
    "    #END CODE HERE\n",
    "\n",
    "    return sigma, cost"
   ]
  },
  {
   "cell_type": "code",
   "execution_count": 98,
   "metadata": {
    "colab": {},
    "colab_type": "code",
    "deletable": false,
    "editable": false,
    "id": "scWsodDMbVen",
    "nbgrader": {
     "cell_type": "code",
     "checksum": "77a94642fd333ee19c1cbdfff27720db",
     "grade": true,
     "grade_id": "cell-9d38419c3ebd0acc",
     "locked": true,
     "points": 10,
     "schema_version": 3,
     "solution": false
    }
   },
   "outputs": [
    {
     "name": "stdout",
     "output_type": "stream",
     "text": [
      "Sigmoid:[0.99987661 0.99999386 0.00449627]\n",
      "Cost:5.801545319394553\n"
     ]
    }
   ],
   "source": [
    "w, b, X, Y = np.array([1.,2.]), 2., np.array([[1.,3.],[2.,4.],[-1.,-3.2]]), np.array([[1,0,1]])\n",
    "sigma, cost = compute_cost(w, b, X, Y)\n",
    "print(\"Sigmoid:\" + str(sigma))\n",
    "print(\"Cost:\" + str(cost))\n",
    "\n"
   ]
  },
  {
   "cell_type": "markdown",
   "metadata": {
    "colab_type": "text",
    "deletable": false,
    "editable": false,
    "id": "pe43vxVhb8L1",
    "nbgrader": {
     "cell_type": "markdown",
     "checksum": "ceceeab4a917c2e76a6d9aa40fe52625",
     "grade": false,
     "grade_id": "cell-6e9022bd13951d73",
     "locked": true,
     "schema_version": 3,
     "solution": false
    }
   },
   "source": [
    "**Expected Output**:\n",
    "\n",
    "<table style=\"width:50%\">\n",
    " <tr>\n",
    " <td>Sigmoid </td> <td> [0.99987661 0.99999386 0.00449627] </td>\n",
    " </td> </tr>\n",
    " <tr>\n",
    "        <td>  cost:  </td>\n",
    "        <td> 5.801545319394553 </td>\n",
    "    </tr>\n",
    "\n",
    "</table>"
   ]
  },
  {
   "cell_type": "markdown",
   "metadata": {
    "colab_type": "text",
    "deletable": false,
    "editable": false,
    "id": "j15xZTmQdX1e",
    "nbgrader": {
     "cell_type": "markdown",
     "checksum": "d4645f9b41fd8bd1541f9d18ee26d514",
     "grade": false,
     "grade_id": "cell-11775dbf025eb93d",
     "locked": true,
     "schema_version": 3,
     "solution": false
    }
   },
   "source": [
    "**2.4 Exercise** Compute the gradient of w and b. "
   ]
  },
  {
   "cell_type": "code",
   "execution_count": 99,
   "metadata": {
    "colab": {},
    "colab_type": "code",
    "deletable": false,
    "id": "wnf2bruQdfVp",
    "nbgrader": {
     "cell_type": "code",
     "checksum": "a4e88ce7b3c54d91b2245a5fb58be553",
     "grade": false,
     "grade_id": "cell-b76e1fe6a6515ea3",
     "locked": false,
     "schema_version": 3,
     "solution": true
    }
   },
   "outputs": [],
   "source": [
    "def gradient(w,b,X,Y,sigma):\n",
    "    \"\"\"\n",
    "    Arguments:\n",
    "    w -- weights\n",
    "    b -- bias\n",
    "    X -- input data\n",
    "    Y -- target or label vector\n",
    "\n",
    "    Return:\n",
    "    dw, db -- gradient of the loss with respect to w, gradient of the loss with respect to b\n",
    "    \"\"\"\n",
    "    # BEGIN CODE HERE\n",
    "    m = X.shape[0]\n",
    "\n",
    "    dw = (1/m)*np.dot((sigma-Y), X)\n",
    "    db = (1/m)*np.sum(sigma-Y)\n",
    "\n",
    "    #END CODE HERE\n",
    "\n",
    "    return dw, db"
   ]
  },
  {
   "cell_type": "code",
   "execution_count": 100,
   "metadata": {
    "colab": {},
    "colab_type": "code",
    "deletable": false,
    "editable": false,
    "id": "PsqriY0EeXfz",
    "nbgrader": {
     "cell_type": "code",
     "checksum": "994826e70eb04b6e6dee37c95ac0d21b",
     "grade": true,
     "grade_id": "cell-c11254300ee020b3",
     "locked": true,
     "points": 5,
     "schema_version": 3,
     "solution": false
    }
   },
   "outputs": [
    {
     "name": "stdout",
     "output_type": "stream",
     "text": [
      "dw = [[0.99845601 2.39507239]]\n",
      "db = 0.001455578136784208\n"
     ]
    }
   ],
   "source": [
    "w, b, X, Y = np.array([1.,2.]), 2., np.array([[1.,3.],[2.,4.],[-1.,-3.2]]), np.array([[1,0,1]])\n",
    "dw, db = gradient(w, b, X, Y,sigma)\n",
    "print (\"dw = \" + str(dw))\n",
    "print (\"db = \" + str(db))\n"
   ]
  },
  {
   "cell_type": "markdown",
   "metadata": {
    "colab_type": "text",
    "deletable": false,
    "editable": false,
    "id": "82sKa2BHe3pE",
    "nbgrader": {
     "cell_type": "markdown",
     "checksum": "8257c34c378e78b316fc953203accad5",
     "grade": false,
     "grade_id": "cell-e3749a16a1cf0dfc",
     "locked": true,
     "schema_version": 3,
     "solution": false
    }
   },
   "source": [
    "**Expected Output**:\n",
    "\n",
    "<table style=\"width:50%\">\n",
    "    <tr>\n",
    "        <td>  dw  </td>\n",
    "      <td> [[0.99845601, 2.39507239]]</td>\n",
    "    </tr>\n",
    "    <tr>\n",
    "        <td>  db  </td>\n",
    "        <td> 0.001455578136784208 </td>\n",
    "    </tr>"
   ]
  },
  {
   "cell_type": "markdown",
   "metadata": {
    "colab_type": "text",
    "deletable": false,
    "editable": false,
    "id": "kFEC6UNrpFie",
    "nbgrader": {
     "cell_type": "markdown",
     "checksum": "350a080a31e3e7bef3110bb848618858",
     "grade": false,
     "grade_id": "cell-a89314f33d6ef4cf",
     "locked": true,
     "schema_version": 3,
     "solution": false
    }
   },
   "source": [
    "**2.5 Exercise** Implement the parameters update function below. The goal is to learn $w$ and $b$ by minimizing the cost function $J$. For a parameter $\\theta$, the update rule is $ \\theta = \\theta - \\alpha \\text{ } d\\theta$, where $\\alpha$ is the learning rate. Tip: Use the functions developed above. "
   ]
  },
  {
   "cell_type": "code",
   "execution_count": 101,
   "metadata": {
    "colab": {},
    "colab_type": "code",
    "deletable": false,
    "id": "Vprh1oA_ps2E",
    "nbgrader": {
     "cell_type": "code",
     "checksum": "59c10891c7341bf8f79a9abec6bd50a6",
     "grade": false,
     "grade_id": "cell-050c33f712ee5e19",
     "locked": false,
     "schema_version": 3,
     "solution": true
    }
   },
   "outputs": [],
   "source": [
    "def update_parameters(w,b,X,Y,num_iterations,learning_rate):\n",
    "    \"\"\"\n",
    "    This function optimizes w and b by running a gradient descent algorithm\n",
    "\n",
    "      Arguments:\n",
    "      w -- weights\n",
    "      b -- bias\n",
    "      X -- input data\n",
    "      Y -- target or label vector\n",
    "      num_iterations -- number of iterations of the optimization loop\n",
    "      learning_rate -- learning rate of the gradient descent update rule\n",
    "\n",
    "      Returns:\n",
    "      params -- dictionary containing the weights w and bias b\n",
    "      grads -- dictionary containing the gradients of the weights and bias with respect to the cost function.\n",
    "    \"\"\"\n",
    "    for i in range(num_iterations):\n",
    "        w_prev = w\n",
    "        b_prev = b\n",
    "        # BEGIN CODE HERE\n",
    "        # Cost and gradient calculation\n",
    "        sigma, cost = compute_cost(w,b,X,Y)\n",
    "        dw, db = gradient(w,b,X,Y,sigma)\n",
    "        # update rule\n",
    "        w = w_prev-learning_rate*dw\n",
    "        b = b_prev-learning_rate*db\n",
    "        \n",
    "        #END CODE HERE\n",
    "\n",
    "\n",
    "        # Print the cost every 100 training iterations\n",
    "        if i % 100 == 0:\n",
    "            print (\"Cost after iteration %i: %f\" %(i, cost)) \n",
    "\n",
    "    return w,b,dw,db\n",
    "\n"
   ]
  },
  {
   "cell_type": "code",
   "execution_count": 102,
   "metadata": {
    "colab": {},
    "colab_type": "code",
    "deletable": false,
    "editable": false,
    "id": "bdnvS5wlrcQT",
    "nbgrader": {
     "cell_type": "code",
     "checksum": "50b609d638a66ed65c95004ba78d192f",
     "grade": true,
     "grade_id": "cell-3c58cac7b833a102",
     "locked": true,
     "points": 8,
     "schema_version": 3,
     "solution": false
    }
   },
   "outputs": [
    {
     "name": "stdout",
     "output_type": "stream",
     "text": [
      "Cost after iteration 0: 5.801545\n",
      "w = [[0.19033591 0.12259159]]\n",
      "b = 1.9253598300845747\n",
      "dw = [[0.67752042 1.41625495]]\n",
      "db = 0.21919450454067657\n"
     ]
    }
   ],
   "source": [
    "w, b, X, Y = np.array([1.,2.]), 2., np.array([[1.,3.],[2.,4.],[-1.,-3.2]]), np.array([[1,0,1]])\n",
    "w,b,dw,db = update_parameters(w, b, X, Y, num_iterations= 100, learning_rate = 0.009)\n",
    "\n",
    "print (\"w = \" + str(w))\n",
    "print (\"b = \" + str(b))\n",
    "print (\"dw = \" + str(dw))\n",
    "print (\"db = \" + str(db))\n"
   ]
  },
  {
   "cell_type": "markdown",
   "metadata": {
    "colab_type": "text",
    "deletable": false,
    "editable": false,
    "id": "CxHSKGB9s2I7",
    "nbgrader": {
     "cell_type": "markdown",
     "checksum": "39f7a59ae15e7a0a69849981e41cc1c8",
     "grade": false,
     "grade_id": "cell-5972f0bc2ef5bf8c",
     "locked": true,
     "schema_version": 3,
     "solution": false
    }
   },
   "source": [
    "**Expected Output**: \n",
    "\n",
    "<table style=\"width:40%\">\n",
    "<tr>\n",
    "<td> w </td>\n",
    "<td>[[ 0.19033591,0.12259159]] </td>\n",
    "</tr>\n",
    "<tr>\n",
    "       <td> b </td>\n",
    "       <td> 1.92535983008 </td>\n",
    "    </tr>\n",
    "    <tr>\n",
    "       <td> dw </td>\n",
    "       <td> [[ 0.67752042, 1.41625495]] </td>\n",
    "    </tr>\n",
    "    <tr>\n",
    "       <td> db </td>\n",
    "       <td> 0.219194504541 </td>\n",
    "    </tr>\n",
    "\n",
    "</table>"
   ]
  },
  {
   "cell_type": "markdown",
   "metadata": {
    "colab_type": "text",
    "deletable": false,
    "editable": false,
    "id": "3bnW_pZtuYc2",
    "nbgrader": {
     "cell_type": "markdown",
     "checksum": "dcd98e8e2455a816b1dd8790a5306a59",
     "grade": false,
     "grade_id": "cell-206c6de13177420f",
     "locked": true,
     "schema_version": 3,
     "solution": false
    }
   },
   "source": [
    "**2.6 Predict** Implement the predict() function by calculating the $y'$ and then convert the probabilities to actual predictions 0 or 1. \n",
    "\n",
    "\n"
   ]
  },
  {
   "cell_type": "code",
   "execution_count": 103,
   "metadata": {
    "colab": {},
    "colab_type": "code",
    "deletable": false,
    "id": "VaAnQYNywYAj",
    "nbgrader": {
     "cell_type": "code",
     "checksum": "98453d6cf1120f316025f3059887fac0",
     "grade": false,
     "grade_id": "cell-24896766b07ecd4f",
     "locked": false,
     "schema_version": 3,
     "solution": true
    }
   },
   "outputs": [],
   "source": [
    "def predict(w, b, X):\n",
    "    '''\n",
    "    Predict whether the label is 0 or 1 using learned logistic regression parameters (w, b)\n",
    "    \n",
    "    Arguments:\n",
    "    w -- weights\n",
    "    b -- bias, a scalar\n",
    "    X -- input data\n",
    "    \n",
    "    Returns:\n",
    "    Y_prediction -- a numpy array (vector) containing all predictions (0/1) for the examples in X\n",
    "    '''\n",
    "    m = X.shape[0]\n",
    "    Y_prediction = np.zeros((1,m))\n",
    "    \n",
    "    # BEGIN CODE HERE\n",
    "    \n",
    "    # Compute vector \"sigma\" predicting the probabilities of input X\n",
    "    z = np.dot(w, X.T) + b\n",
    "    sigma = sigmoid(z)\n",
    "    # Convert probabilities sigma[0,i] to actual predictions.\n",
    "    for i in range(0, m):\n",
    "        if sigma[0, i] > 0.5:\n",
    "            Y_prediction[0, i] = 1\n",
    "\n",
    "    #END CODE HERE\n",
    "\n",
    "    \n",
    "    assert(Y_prediction.shape == (1, m))\n",
    "    \n",
    "    return Y_prediction"
   ]
  },
  {
   "cell_type": "code",
   "execution_count": 104,
   "metadata": {
    "colab": {},
    "colab_type": "code",
    "deletable": false,
    "editable": false,
    "id": "q2P-3OBaxBLT",
    "nbgrader": {
     "cell_type": "code",
     "checksum": "c05dc02ef30d38e3b6cf8fae342bc4e3",
     "grade": true,
     "grade_id": "cell-dc9eb4e2a0da0d10",
     "locked": true,
     "points": 5,
     "schema_version": 3,
     "solution": false
    }
   },
   "outputs": [
    {
     "name": "stdout",
     "output_type": "stream",
     "text": [
      "predictions = [[1. 1. 0.]]\n"
     ]
    }
   ],
   "source": [
    "w = np.array([[0.1124579,0.23106775]])\n",
    "b = -0.3\n",
    "X = np.array([[1.,1.2],[-1.1,2.],[-3.2,0.1]])\n",
    "print (\"predictions = \" + str(predict(w, b, X)))\n"
   ]
  },
  {
   "cell_type": "markdown",
   "metadata": {
    "colab_type": "text",
    "deletable": false,
    "editable": false,
    "id": "fhPhPQZvx4TC",
    "nbgrader": {
     "cell_type": "markdown",
     "checksum": "cbe3b2c5e724ae28aa31729124ef4a87",
     "grade": false,
     "grade_id": "cell-9ad0176df00b6db8",
     "locked": true,
     "schema_version": 3,
     "solution": false
    }
   },
   "source": [
    "**Expected Output**: \n",
    "\n",
    "<table style=\"width:30%\">\n",
    "    <tr>\n",
    "         <td>\n",
    "             predictions\n",
    "         </td>\n",
    "          <td>\n",
    "            [[1. 1. 0.]]\n",
    "         </td>  \n",
    "   </tr>\n",
    "\n",
    "</table>\n"
   ]
  },
  {
   "cell_type": "markdown",
   "metadata": {
    "colab_type": "text",
    "deletable": false,
    "editable": false,
    "id": "LSEzK5Cc0E3X",
    "nbgrader": {
     "cell_type": "markdown",
     "checksum": "270bed39335e5969497ffeecd21c0630",
     "grade": false,
     "grade_id": "cell-4363754ff1f87e60",
     "locked": true,
     "schema_version": 3,
     "solution": false
    }
   },
   "source": [
    "**2.7 Exercise** Put all the above blocks in the right order to create a model in the function below."
   ]
  },
  {
   "cell_type": "code",
   "execution_count": 105,
   "metadata": {
    "colab": {},
    "colab_type": "code",
    "deletable": false,
    "id": "oy4UD-zR0Sps",
    "nbgrader": {
     "cell_type": "code",
     "checksum": "87403c6f9eca3fa5182d3c494fdf48eb",
     "grade": true,
     "grade_id": "cell-c82b256d30be76dd",
     "locked": false,
     "points": 5,
     "schema_version": 3,
     "solution": true
    }
   },
   "outputs": [],
   "source": [
    "def model(X_train, Y_train, X_test, Y_test, num_iterations = 2000, learning_rate = 0.5):\n",
    "    \"\"\"\n",
    "    Builds the logistic regression model by calling the function you've implemented previously\n",
    "\n",
    "    Arguments:\n",
    "    X_train -- training set represented by a numpy array\n",
    "    Y_train -- training labels represented by a numpy array (vector) of shape (1, m_train)\n",
    "    X_test -- test set represented by a numpy array of shape\n",
    "    Y_test -- test labels represented by a numpy array (vector) of shape (1, m_test)\n",
    "    num_iterations -- hyperparameter representing the number of iterations to optimize the parameters\n",
    "    learning_rate -- hyperparameter representing the learning rate used in the update rule of update_parameters()\n",
    "\n",
    "    Returns:\n",
    "    d -- dictionary containing information about the model.\n",
    "    \"\"\"\n",
    "    # BEGIN CODE HERE\n",
    "\n",
    "    # initialize parameters\n",
    "    w, b = initialize(X_train.shape[1])\n",
    "\n",
    "    # Gradient descent\n",
    "    w,b,dw,db = update_parameters(w,b,X_train,Y_train,num_iterations,learning_rate)\n",
    "    \n",
    "    # Predict test/train set examples\n",
    "    Y_prediction_test = predict(w, b, X_test)\n",
    "    Y_prediction_train = predict(w, b, X_train)\n",
    "\n",
    "    #END CODE HERE\n",
    "\n",
    "    # Print train/test Errors\n",
    "    print(\"train accuracy: {} %\".format(100 - np.mean(np.abs(Y_prediction_train - Y_train)) * 100))\n",
    "    print(\"test accuracy: {} %\".format(100 - np.mean(np.abs(Y_prediction_test - Y_test)) * 100))\n",
    "\n",
    "\n",
    "    d = {\"Y_prediction_test\": Y_prediction_test, \n",
    "        \"Y_prediction_train\" : Y_prediction_train, \n",
    "        \"w\" : w, \n",
    "        \"b\" : b,\n",
    "        \"learning_rate\" : learning_rate,\n",
    "        \"num_iterations\": num_iterations}\n",
    "\n",
    "    return d\n"
   ]
  },
  {
   "cell_type": "markdown",
   "metadata": {
    "colab_type": "text",
    "deletable": false,
    "editable": false,
    "id": "eSv1oc0IgJUd",
    "nbgrader": {
     "cell_type": "markdown",
     "checksum": "cd21e5fc5056f1abfbe5e6ad62d1ab60",
     "grade": false,
     "grade_id": "cell-2ed9838dc6fc1c78",
     "locked": true,
     "schema_version": 3,
     "solution": false
    }
   },
   "source": [
    "**2.8 Exercise** Create your own dataset from a multivariate normal distribution to test the model with a total of 2000 samples. The mean and covariance matrix are given for each class.  "
   ]
  },
  {
   "cell_type": "code",
   "execution_count": 106,
   "metadata": {
    "colab": {},
    "colab_type": "code",
    "deletable": false,
    "id": "NDzIkc6v1Uf8",
    "nbgrader": {
     "cell_type": "code",
     "checksum": "fe25dc25820215f1a4af84fb5b4c6702",
     "grade": true,
     "grade_id": "cell-8046bbd0795583df",
     "locked": false,
     "points": 5,
     "schema_version": 3,
     "solution": true
    }
   },
   "outputs": [
    {
     "data": {
      "text/plain": [
       "<matplotlib.collections.PathCollection at 0x7f211a4b1550>"
      ]
     },
     "execution_count": 106,
     "metadata": {},
     "output_type": "execute_result"
    },
    {
     "data": {
      "image/png": "[encoded data removed]",
      "text/plain": [
       "<Figure size 576x576 with 1 Axes>"
      ]
     },
     "metadata": {
      "needs_background": "light"
     },
     "output_type": "display_data"
    }
   ],
   "source": [
    "import matplotlib.pyplot as plt\n",
    "num_observations = 1000 #number of observations of each \n",
    "mean_class1 = [0,0]\n",
    "mean_class2 = [1, 4]\n",
    "cov_matrix =  [[0.5, 0],[0, 0.5]]\n",
    "\n",
    "# BEGIN CODE HERE\n",
    "\n",
    "x1 =  np.random.multivariate_normal(mean_class1, cov_matrix, 1000)\n",
    "x2 = np.random.multivariate_normal(mean_class2, cov_matrix, 1000)\n",
    "\n",
    "# TIP: check numpy vstack and hstack\n",
    "X = np.vstack((x1,x2))\n",
    "y1 = np.zeros(1000)\n",
    "y2 = np.ones(1000)\n",
    "y = np.hstack((y1,y2))\n",
    "\n",
    "#END CODE HERE\n",
    "\n",
    "\n",
    "plt.figure(figsize=(8,8))\n",
    "plt.scatter(X[0:num_observations, 0], \n",
    "            X[0:num_observations, 1],\n",
    "            c = 'r', alpha = .4)\n",
    "plt.scatter(X[num_observations:, 0], \n",
    "            X[num_observations:, 1],\n",
    "            c = 'b', alpha = .4)"
   ]
  },
  {
   "cell_type": "markdown",
   "metadata": {
    "colab_type": "text",
    "deletable": false,
    "editable": false,
    "id": "w7lyf-hkmMJV",
    "nbgrader": {
     "cell_type": "markdown",
     "checksum": "1582fad4c9094837510023d1a66fa421",
     "grade": false,
     "grade_id": "cell-ecbabdb9ea4f45da",
     "locked": true,
     "schema_version": 3,
     "solution": false
    }
   },
   "source": [
    "Your plot should look like similar to this:\n",
    "\n",
    "![plot](https://raw.githubusercontent.com/sakrifor/public/master/machine_learning_course/images/plot.png)"
   ]
  },
  {
   "cell_type": "markdown",
   "metadata": {
    "colab_type": "text",
    "deletable": false,
    "editable": false,
    "id": "N6gklYbei7Te",
    "nbgrader": {
     "cell_type": "markdown",
     "checksum": "f0501b0063f279c1dfde4374a8c5abd3",
     "grade": false,
     "grade_id": "cell-911f6638e52cfc11",
     "locked": true,
     "schema_version": 3,
     "solution": false,
     "task": false
    }
   },
   "source": [
    "**2.9 Exercise** Split your dataset into train and test set and then use the model function to evaluate your model. Be careful to include both classes in train and test set. Finally, make a plot containing the samples and the line the model has learned.  "
   ]
  },
  {
   "cell_type": "code",
   "execution_count": 107,
   "metadata": {
    "colab": {},
    "colab_type": "code",
    "deletable": false,
    "id": "0e0BE1vJaEiM",
    "nbgrader": {
     "cell_type": "code",
     "checksum": "05e708a8bcfa86f52587ab70f8b000ce",
     "grade": true,
     "grade_id": "cell-199f5d6fb1cac508",
     "locked": false,
     "points": 5,
     "schema_version": 3,
     "solution": true,
     "task": false
    },
    "scrolled": false
   },
   "outputs": [
    {
     "name": "stdout",
     "output_type": "stream",
     "text": [
      "Cost after iteration 0: 0.693147\n",
      "Cost after iteration 100: 0.489770\n",
      "Cost after iteration 200: 0.427779\n",
      "Cost after iteration 300: 0.393845\n",
      "Cost after iteration 400: 0.369395\n",
      "Cost after iteration 500: 0.349477\n",
      "Cost after iteration 600: 0.332285\n",
      "Cost after iteration 700: 0.317003\n",
      "Cost after iteration 800: 0.303196\n",
      "Cost after iteration 900: 0.290598\n",
      "Cost after iteration 1000: 0.279029\n",
      "Cost after iteration 1100: 0.268355\n",
      "Cost after iteration 1200: 0.258473\n",
      "Cost after iteration 1300: 0.249297\n",
      "Cost after iteration 1400: 0.240756\n",
      "Cost after iteration 1500: 0.232789\n",
      "Cost after iteration 1600: 0.225342\n",
      "Cost after iteration 1700: 0.218367\n",
      "Cost after iteration 1800: 0.211824\n",
      "Cost after iteration 1900: 0.205676\n",
      "train accuracy: 96.5 %\n",
      "test accuracy: 96.0 %\n",
      "[0.23644371 1.00227325]\n",
      "-1.1406217358636959\n"
     ]
    },
    {
     "data": {
      "text/plain": [
       "[<matplotlib.lines.Line2D at 0x7f211a424990>]"
      ]
     },
     "execution_count": 107,
     "metadata": {},
     "output_type": "execute_result"
    },
    {
     "data": {
      "image/png": "[encoded data removed]",
      "text/plain": [
       "<Figure size 576x576 with 1 Axes>"
      ]
     },
     "metadata": {
      "needs_background": "light"
     },
     "output_type": "display_data"
    }
   ],
   "source": [
    "# BEGIN CODE HERE\n",
    "from sklearn import preprocessing\n",
    "\n",
    "# set a seed to keep the same train-test split every time you execute this block\n",
    "np.random.seed(10)\n",
    "\n",
    "# suffle X and y with the same order\n",
    "shuffler = np.random.permutation(len(X))\n",
    "X_shuffled = X[shuffler]\n",
    "y_shuffled = y[shuffler]\n",
    "\n",
    "# set size for train data to 80% of the total size\n",
    "train_size = int(0.8 * len(X_shuffled))\n",
    "\n",
    "# TRAIN DATA\n",
    "X_train = X_shuffled[:train_size]\n",
    "y_train = y_shuffled[:train_size]\n",
    "\n",
    "# TEST DATA\n",
    "X_test = X_shuffled[train_size:]\n",
    "y_test = y_shuffled[train_size:]\n",
    "\n",
    "# standardization\n",
    "# scaler = preprocessing.StandardScaler()\n",
    "# X_train = scaler.fit_transform( X_train )\n",
    "# X_test = scaler.transform( X_test )\n",
    "\n",
    "\n",
    "#END CODE HERE\n",
    "\n",
    "d = model(X_train,y_train,X_test,y_test,num_iterations = 2000, learning_rate = 0.004)\n",
    "\n",
    "# Plot again\n",
    "plt.figure(figsize=(8,8))\n",
    "plt.scatter(X[0:num_observations, 0], \n",
    "            X[0:num_observations, 1],\n",
    "            c = 'r', alpha = .4)\n",
    "plt.scatter(X[num_observations:, 0], \n",
    "            X[num_observations:, 1],\n",
    "            c = 'b', alpha = .4)\n",
    "\n",
    "x_boundary = np.linspace(-3, 4, 1000) # Return evenly spaced numbers over a specified interval.\n",
    "weights =  d['w'][0]\n",
    "print(weights)\n",
    "# BEGIN CODE HERE\n",
    "w0 = d['b']\n",
    "print(w0)\n",
    "y_boundary = -(weights[0]/weights[1]*x_boundary+w0/weights[1]) # y = -(ax/c + b/c)\n",
    "#END CODE HERE\n",
    "\n",
    "\n",
    "plt.plot(x_boundary, y_boundary, color='black')"
   ]
  },
  {
   "cell_type": "markdown",
   "metadata": {
    "colab_type": "text",
    "deletable": false,
    "editable": false,
    "id": "5z4RfZE1nnkl",
    "nbgrader": {
     "cell_type": "markdown",
     "checksum": "a1694e33a19c09c64baf7c420224ad3f",
     "grade": false,
     "grade_id": "cell-3439eb74d7e73f04",
     "locked": true,
     "schema_version": 3,
     "solution": false,
     "task": false
    }
   },
   "source": [
    "Your plot should look like similar to this:\n",
    "\n",
    "![plot](https://raw.githubusercontent.com/sakrifor/public/master/machine_learning_course/images/plot_line.png)"
   ]
  },
  {
   "cell_type": "markdown",
   "metadata": {
    "colab_type": "text",
    "deletable": false,
    "editable": false,
    "id": "cL4U8X6rodey",
    "nbgrader": {
     "cell_type": "markdown",
     "checksum": "9fe28e603be5cc8992b63c695915b305",
     "grade": false,
     "grade_id": "cell-f379407e8f4b0d61",
     "locked": true,
     "schema_version": 3,
     "solution": false,
     "task": false
    }
   },
   "source": [
    "## 3.0 Regularization ##\n",
    "\n",
    "Rewrite any of the above functions in the below block so as the Logistic Regression to have the option to run with **L1** and **L2** regularization. Rewrite only the functions needed."
   ]
  },
  {
   "cell_type": "code",
   "execution_count": 108,
   "metadata": {
    "colab": {},
    "colab_type": "code",
    "deletable": false,
    "id": "oemHripT8nvE",
    "nbgrader": {
     "cell_type": "code",
     "checksum": "9cb5ce64c95b79b863f191b900812592",
     "grade": true,
     "grade_id": "cell-00c4b14e03d90376",
     "locked": false,
     "points": 25,
     "schema_version": 3,
     "solution": true,
     "task": false
    }
   },
   "outputs": [],
   "source": [
    "def compute_cost_with_regularization_penalty(w,b,X,Y):\n",
    "    \"\"\"\n",
    "    Arguments:\n",
    "    w -- weights\n",
    "    b -- bias\n",
    "    X -- input data\n",
    "    Y -- target or label vector\n",
    "\n",
    "    Return:\n",
    "    sigma -- the sigmoid of the z\n",
    "    cost -- cost for logistic regression\n",
    "    \"\"\"\n",
    "    # BEGIN CODE HERE\n",
    "    \n",
    "    m = X.shape[0]\n",
    "    z = np.dot(w, X.T) + b\n",
    "    sigma = sigmoid(z)\n",
    "    if L == \"L1\":\n",
    "        # l1 regularization \n",
    "        cost = -(1 / m) * np.sum(Y * np.log(sigma) + (1 - Y) * np.log(1 - sigma)) + (lamda/(2*m)*np.sum(np.abs(w))) \n",
    "    else:\n",
    "        #l2 regularization\n",
    "        cost = -(1 / m) * np.sum(Y * np.log(sigma) + (1 - Y) * np.log(1 - sigma)) + np.dot(lamda/(2*m), np.sum( w * w))\n",
    "    \n",
    "    #END CODE HERE\n",
    "\n",
    "    return sigma, cost"
   ]
  },
  {
   "cell_type": "code",
   "execution_count": 109,
   "metadata": {},
   "outputs": [],
   "source": [
    "def update_parameters(w,b,X,Y,num_iterations,learning_rate):\n",
    "    \"\"\"\n",
    "    This function optimizes w and b by running a gradient descent algorithm\n",
    "\n",
    "      Arguments:\n",
    "      w -- weights\n",
    "      b -- bias\n",
    "      X -- input data\n",
    "      Y -- target or label vector\n",
    "      num_iterations -- number of iterations of the optimization loop\n",
    "      learning_rate -- learning rate of the gradient descent update rule\n",
    "\n",
    "      Returns:\n",
    "      params -- dictionary containing the weights w and bias b\n",
    "      grads -- dictionary containing the gradients of the weights and bias with respect to the cost function.\n",
    "    \"\"\"\n",
    "    for i in range(num_iterations):\n",
    "        w_prev = w\n",
    "        b_prev = b\n",
    "        # BEGIN CODE HERE\n",
    "        \n",
    "        m = X.shape[0]\n",
    "        # Cost and gradient calculation\n",
    "        sigma, cost = compute_cost_with_regularization_penalty(w,b,X,Y)\n",
    "        dw, db = gradient(w,b,X,Y,sigma)\n",
    "        # update rule with regularization\n",
    "        w = w_prev - (learning_rate*dw) + (lamda/m)*w_prev\n",
    "        b = b_prev - learning_rate*db\n",
    "        \n",
    "        #END CODE HERE\n",
    "\n",
    "\n",
    "        # Print the cost every 100 training iterations\n",
    "        if i % 100 == 0:\n",
    "            print (\"Cost after iteration %i: %f\" %(i, cost)) \n",
    "            #print(np.sum(pow(w_prev,2)))\n",
    "\n",
    "    return w,b,dw,db\n",
    "\n"
   ]
  },
  {
   "cell_type": "code",
   "execution_count": 110,
   "metadata": {},
   "outputs": [
    {
     "name": "stdout",
     "output_type": "stream",
     "text": [
      "Cost after iteration 0: 0.693147\n",
      "Cost after iteration 100: 0.486130\n",
      "Cost after iteration 200: 0.421209\n",
      "Cost after iteration 300: 0.385352\n",
      "Cost after iteration 400: 0.359530\n",
      "Cost after iteration 500: 0.338612\n",
      "Cost after iteration 600: 0.320712\n",
      "Cost after iteration 700: 0.304975\n",
      "Cost after iteration 800: 0.290948\n",
      "Cost after iteration 900: 0.278358\n",
      "Cost after iteration 1000: 0.267024\n",
      "Cost after iteration 1100: 0.256819\n",
      "Cost after iteration 1200: 0.247648\n",
      "Cost after iteration 1300: 0.239437\n",
      "Cost after iteration 1400: 0.232129\n",
      "Cost after iteration 1500: 0.225679\n",
      "Cost after iteration 1600: 0.220052\n",
      "Cost after iteration 1700: 0.215222\n",
      "Cost after iteration 1800: 0.211168\n",
      "Cost after iteration 1900: 0.207877\n",
      "train accuracy: 91.75 %\n",
      "test accuracy: 92.25 %\n",
      "[0.39610502 1.68875746]\n",
      "-1.2775442078460508\n"
     ]
    },
    {
     "data": {
      "text/plain": [
       "[<matplotlib.lines.Line2D at 0x7f211a400f90>]"
      ]
     },
     "execution_count": 110,
     "metadata": {},
     "output_type": "execute_result"
    },
    {
     "data": {
      "image/png": "[encoded data removed]",
      "text/plain": [
       "<Figure size 576x576 with 1 Axes>"
      ]
     },
     "metadata": {
      "needs_background": "light"
     },
     "output_type": "display_data"
    }
   ],
   "source": [
    "# TESTING REGULARIZATION\n",
    "L = \"L2\"\n",
    "lamda = 1\n",
    "d = model(X_train,y_train,X_test,y_test,num_iterations = 2000, learning_rate = 0.004)\n",
    "\n",
    "# Plot again\n",
    "plt.figure(figsize=(8,8))\n",
    "plt.scatter(X[0:num_observations, 0], \n",
    "            X[0:num_observations, 1],\n",
    "            c = 'r', alpha = .4)\n",
    "plt.scatter(X[num_observations:, 0], \n",
    "            X[num_observations:, 1],\n",
    "            c = 'b', alpha = .4)\n",
    "\n",
    "x_boundary = np.linspace(-3, 4, 1000) # Return evenly spaced numbers over a specified interval.\n",
    "weights =  d['w'][0]\n",
    "print(weights)\n",
    "# BEGIN CODE HERE\n",
    "w0 = d['b']\n",
    "print(w0)\n",
    "y_boundary = -(weights[0]/weights[1]*x_boundary+w0/weights[1]) # y = -(ax/c + b/c)\n",
    "#END CODE HERE\n",
    "\n",
    "\n",
    "plt.plot(x_boundary, y_boundary, color='black')"
   ]
  },
  {
   "cell_type": "markdown",
   "metadata": {
    "colab_type": "text",
    "deletable": false,
    "editable": false,
    "id": "5UsPoeQ8VpmV",
    "nbgrader": {
     "cell_type": "markdown",
     "checksum": "f9786e9d2abc991be3dc7dd11946c0c9",
     "grade": false,
     "grade_id": "cell-7b1bcd8fb3c836ee",
     "locked": true,
     "schema_version": 3,
     "solution": false,
     "task": false
    }
   },
   "source": [
    "## **Questions** ##\n",
    "\n",
    "Answer below!\n",
    "\n",
    "1. Your model should achieve around 93% accuracy in the test set. If you want to improve the accuracy what changes you should make? Report the changes and the results.\n",
    "2. Besides using a specific number of iterations for your model what else you can do to stop the training? \n",
    "3. Do you notice any differences when using the L1 or L2 regularization? Is so, why? If not, why?\n",
    "\n",
    "Bonus Question:\n",
    "*What parts of this assignment were not clear or misleading? Are there any other comments on this assignment?* \n",
    "\n"
   ]
  },
  {
   "cell_type": "markdown",
   "metadata": {
    "colab": {},
    "colab_type": "code",
    "deletable": false,
    "id": "TNz5dOTw8hWz",
    "nbgrader": {
     "cell_type": "markdown",
     "checksum": "eb6ea3a1a4efda46c432400ce6058e66",
     "grade": true,
     "grade_id": "cell-daef52bcbcbb8de9",
     "locked": false,
     "points": 15,
     "schema_version": 3,
     "solution": true,
     "task": false
    }
   },
   "source": [
    "## **Answers** ##\n",
    "\n",
    "**A1**\n",
    "\n",
    "Απόδοση μοντέλου:\n",
    "\n",
    "    train accuracy: 96.5 %\n",
    "    test accuracy: 96.0 %\n",
    "\n",
    "Για να βελτιώσουμε την ακρίβεια δοκιμάζουμε να εφαρμόσουμε Standarization στις ανεξάρτητες μεταβλητές του dataset με χρήση της συνάρτησης preprocessing.StandardScaler της βιβλιοθήκης sklearn(ο κώδικας είναι μέσα σε σχόλια για να μην επηρεάζει την κανονική ροή του προγράμματος) που αφαιρεί τη μέση τιμή και διαιρεί με την τυπική απόκλιση. Τα βελτιωμένα αποτελέσματα που πήραμε είναι τα εξής:\n",
    "\n",
    "    train accuracy: 99.4375 %\n",
    "    test accuracy: 99.0 %\n",
    "    \n",
    "Άλλη μία διαδικασία που ίσως βοηθούσε θα ήταν να εξασφαλίζαμε ότι στα train data έχουμε τον ίδιο αριθμό σημείων από κάθε κλάση.\n",
    "\n",
    "Ακόμα σημαντικό θα ήταν να κάνουμε hyperparameter optimization για τις παραμέτρους \"learning_rate\" και \"num_iterations\" με την τεχνική gridsearch σε συνδυασμό με cross validation για να πετύχουμε τα καλύτερα δυνατά αποτελέσματα.\n",
    "\n",
    "\n",
    "**A2**\n",
    "\n",
    "Θα μπορούσαμε να προσθέσουμε έναν έλεγχο σε κάθε επανάληψη της εκπαίδευσης για την τιμή του κόστους. Όταν το κόστος έφτανε σε μια τιμή μικρότερη από ένα threshold που θα είχαμε ορίσει εκ των προτέρων (για παράδειγμα e = 10^-3) θα σταματούσαμε τη διαδικασία εξοικονομώντας έτσι χρόνο και υπολογιστική δύναμη.\n",
    "\n",
    "**A3**\n",
    "\n",
    "Στο συγκεκριμένο παράδειγμα με L1 και L2 Regularization έχουμε τα εξής αποτελέσματα:\n",
    "\n",
    "    train accuracy: 91.75 %\n",
    "    test accuracy: 92.25 %\n",
    "\n",
    "Παρατηρούμε μείωση τόσο στην ακρίβεια για τα train όσο και για τα test δεδομένα γεγονός που είναι αναμενόμενο αφού προσθέσαμε ένα μικρο penalty στη συνάρτηση κόστους.\n",
    "\n",
    "Στην ουσία επειδή είχαμε εξίσου καλές αποδόσεις για train και test data, η κανονικοποίηση δεν έχει σημαντική επίδραση στο μοντέλο μας και θεωρώ πως δεν είναι αναγκαία στο συγκεκριμένο παράδειγμα. Το regularization θα είχε μεγαλύτερο νόημα αν υπήρχε πιο έντονο το φαινόμενο του overfitting. Προσθέτοντας ενα μικρο penalty στη συνάρτηση κόστους και κάνοντας ενα ελαφρώς χειρότερο fitting στα train data υποθετικά θα μπορούσαμε να βελτιώσουμε τη δυνατότητα πρόβλεψης για άγνωστα δεδομένα δημιουργώντας ένα πιο γενικευμένο μοντέλο.\n",
    "\n",
    "Επίσης αν είχαμε περισσότερα features με την L2 κανονικοποίηση θα είχαν \"τιμωρηθεί\" τα features με μικρότερο coefficient και το μοντέλο θα βασιζόταν κυρίως στα πιο σημαντικά χαρακτηριστικά δηλαδή αυτά με το μεγαλύτερο βάρος(w). Ωστόσο επειδή τώρα έχουμε μόνο 2 τα οποία έχουν σημαντική επίδραση στη δημιουργία του hyperplane τα L1 και L2 μας έδωσαν περίπου τα ίδια τιμή κόστους.\n",
    "\n",
    "Παρατήρηση: για μεγάλο συντελεστή lamda (='α' στις διαφάνειες) παίρνουμε Runtime Warning καθώς τα βάρη μετά απο κάποια iterations γίνονται πολύ μεγάλα και πλησιάζουν στο άπειρο. Για αυτό η τιμή του lamda έχει οριστεί ίση με 1.\n"
   ]
  },
  {
   "cell_type": "code",
   "execution_count": null,
   "metadata": {},
   "outputs": [],
   "source": []
  }
 ],
 "metadata": {
  "colab": {
   "collapsed_sections": [],
   "name": "Assignment 1 - Linear Models",
   "provenance": [],
   "toc_visible": true
  },
  "kernelspec": {
   "display_name": "Python 3",
   "language": "python",
   "name": "python3"
  },
  "language_info": {
   "codemirror_mode": {
    "name": "ipython",
    "version": 3
   },
   "file_extension": ".py",
   "mimetype": "text/x-python",
   "name": "python",
   "nbconvert_exporter": "python",
   "pygments_lexer": "ipython3",
   "version": "3.7.4"
  }
 },
 "nbformat": 4,
 "nbformat_minor": 1
}
